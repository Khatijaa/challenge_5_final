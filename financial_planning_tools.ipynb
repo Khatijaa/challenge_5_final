{
 "cells": [
  {
   "cell_type": "markdown",
   "metadata": {},
   "source": [
    "# Financial Planning with APIs and Simulations\n",
    "\n",
    "In this Challenge, you’ll create two financial analysis tools by using a single Jupyter notebook:\n",
    "\n",
    "Part 1: A financial planner for emergencies. The members will be able to use this tool to visualize their current savings. The members can then determine if they have enough reserves for an emergency fund.\n",
    "\n",
    "Part 2: A financial planner for retirement. This tool will forecast the performance of their retirement portfolio in 30 years. To do this, the tool will make an Alpaca API call via the Alpaca SDK to get historical price data for use in Monte Carlo simulations.\n",
    "\n",
    "You’ll use the information from the Monte Carlo simulation to answer questions about the portfolio in your Jupyter notebook.\n",
    "\n"
   ]
  },
  {
   "cell_type": "code",
   "execution_count": 1,
   "metadata": {},
   "outputs": [],
   "source": [
    "# Import the required libraries and dependencies\n",
    "import os\n",
    "import requests\n",
    "import json\n",
    "import pandas as pd\n",
    "from dotenv import load_dotenv\n",
    "import alpaca_trade_api as tradeapi\n",
    "from MCForecastTools import MCSimulation\n",
    "\n",
    "%matplotlib inline"
   ]
  },
  {
   "cell_type": "code",
   "execution_count": 2,
   "metadata": {},
   "outputs": [
    {
     "data": {
      "text/plain": [
       "True"
      ]
     },
     "execution_count": 2,
     "metadata": {},
     "output_type": "execute_result"
    }
   ],
   "source": [
    "# Load the environment variables from the .env file\n",
    "#by calling the load_dotenv function\n",
    "load_dotenv(\"top.env\")"
   ]
  },
  {
   "cell_type": "markdown",
   "metadata": {},
   "source": [
    "## Part 1: Create a Financial Planner for Emergencies"
   ]
  },
  {
   "cell_type": "markdown",
   "metadata": {},
   "source": [
    "### Evaluate the Cryptocurrency Wallet by Using the Requests Library\n",
    "\n",
    "In this section, you’ll determine the current value of a member’s cryptocurrency wallet. You’ll collect the current prices for the Bitcoin and Ethereum cryptocurrencies by using the Python Requests library. For the prototype, you’ll assume that the member holds the 1.2 Bitcoins (BTC) and 5.3 Ethereum coins (ETH). To do all this, complete the following steps:\n",
    "\n",
    "1. Create a variable named `monthly_income`, and set its value to `12000`.\n",
    "\n",
    "2. Use the Requests library to get the current price (in US dollars) of Bitcoin (BTC) and Ethereum (ETH) by using the API endpoints that the starter code supplies.\n",
    "\n",
    "3. Navigate the JSON response object to access the current price of each coin, and store each in a variable.\n",
    "\n",
    "    > **Hint** Note the specific identifier for each cryptocurrency in the API JSON response. The Bitcoin identifier is `1`, and the Ethereum identifier is `1027`.\n",
    "\n",
    "4. Calculate the value, in US dollars, of the current amount of each cryptocurrency and of the entire cryptocurrency wallet.\n",
    "\n"
   ]
  },
  {
   "cell_type": "code",
   "execution_count": 3,
   "metadata": {},
   "outputs": [],
   "source": [
    "# The current number of coins for each cryptocurrency asset held in the portfolio.\n",
    "btc_coins = 1.2\n",
    "eth_coins = 5.3"
   ]
  },
  {
   "cell_type": "markdown",
   "metadata": {},
   "source": [
    "#### Step 1: Create a variable named `monthly_income`, and set its value to `12000`."
   ]
  },
  {
   "cell_type": "code",
   "execution_count": 4,
   "metadata": {},
   "outputs": [],
   "source": [
    "# The monthly amount for the member's household income\n",
    "monthly_income= 12000\n"
   ]
  },
  {
   "cell_type": "markdown",
   "metadata": {},
   "source": [
    "#### Review the endpoint URLs for the API calls to Free Crypto API in order to get the current pricing information for both BTC and ETH."
   ]
  },
  {
   "cell_type": "code",
   "execution_count": 5,
   "metadata": {},
   "outputs": [],
   "source": [
    "# The Free Crypto API Call endpoint URLs for the held cryptocurrency assets\n",
    "btc_url = \"https://api.alternative.me/v2/ticker/Bitcoin/?convert=USD\"\n",
    "eth_url = \"https://api.alternative.me/v2/ticker/Ethereum/?convert=USD\""
   ]
  },
  {
   "cell_type": "markdown",
   "metadata": {},
   "source": [
    "#### Step 2. Use the Requests library to get the current price (in US dollars) of Bitcoin (BTC) and Ethereum (ETH) by using the API endpoints that the starter code supplied."
   ]
  },
  {
   "cell_type": "code",
   "execution_count": 6,
   "metadata": {},
   "outputs": [
    {
     "name": "stdout",
     "output_type": "stream",
     "text": [
      "{\n",
      "    \"data\": {\n",
      "        \"1\": {\n",
      "            \"circulating_supply\": 18854118,\n",
      "            \"id\": 1,\n",
      "            \"last_updated\": 1635180798,\n",
      "            \"max_supply\": 21000000,\n",
      "            \"name\": \"Bitcoin\",\n",
      "            \"quotes\": {\n",
      "                \"USD\": {\n",
      "                    \"market_cap\": 1203890149930,\n",
      "                    \"percent_change_1h\": 0.177880614262759,\n",
      "                    \"percent_change_24h\": 5.73776269925254,\n",
      "                    \"percent_change_7d\": 3.78303826963744,\n",
      "                    \"percentage_change_1h\": 0.177880614262759,\n",
      "                    \"percentage_change_24h\": 5.73776269925254,\n",
      "                    \"percentage_change_7d\": 3.78303826963744,\n",
      "                    \"price\": 63914.0,\n",
      "                    \"volume_24h\": 31307192130\n",
      "                }\n",
      "            },\n",
      "            \"rank\": 1,\n",
      "            \"symbol\": \"BTC\",\n",
      "            \"total_supply\": 18854118,\n",
      "            \"website_slug\": \"bitcoin\"\n",
      "        }\n",
      "    },\n",
      "    \"metadata\": {\n",
      "        \"error\": null,\n",
      "        \"num_cryptocurrencies\": 3105,\n",
      "        \"timestamp\": 1635180798\n",
      "    }\n",
      "}\n"
     ]
    }
   ],
   "source": [
    "# Using the Python requests library, make an API call to access the current price of BTC\n",
    "btc_response = requests.get(btc_url).json()\n",
    "\n",
    "# Use the json.dumps function to review the response data from the API call\n",
    "# Use the indent and sort_keys parameters to make the response object readable\n",
    "print(json.dumps(btc_response, indent=4, sort_keys=True))\n"
   ]
  },
  {
   "cell_type": "code",
   "execution_count": 7,
   "metadata": {},
   "outputs": [
    {
     "name": "stdout",
     "output_type": "stream",
     "text": [
      "{\n",
      "    \"data\": {\n",
      "        \"1027\": {\n",
      "            \"circulating_supply\": 118073119,\n",
      "            \"id\": 1027,\n",
      "            \"last_updated\": 1635180755,\n",
      "            \"max_supply\": 0,\n",
      "            \"name\": \"Ethereum\",\n",
      "            \"quotes\": {\n",
      "                \"USD\": {\n",
      "                    \"market_cap\": 500480142940,\n",
      "                    \"percent_change_1h\": 1.24458250975853,\n",
      "                    \"percent_change_24h\": 5.20317306284652,\n",
      "                    \"percent_change_7d\": 10.078211285728,\n",
      "                    \"percentage_change_1h\": 1.24458250975853,\n",
      "                    \"percentage_change_24h\": 5.20317306284652,\n",
      "                    \"percentage_change_7d\": 10.078211285728,\n",
      "                    \"price\": 4242.66,\n",
      "                    \"volume_24h\": 17099444114\n",
      "                }\n",
      "            },\n",
      "            \"rank\": 2,\n",
      "            \"symbol\": \"ETH\",\n",
      "            \"total_supply\": 118073119,\n",
      "            \"website_slug\": \"ethereum\"\n",
      "        }\n",
      "    },\n",
      "    \"metadata\": {\n",
      "        \"error\": null,\n",
      "        \"num_cryptocurrencies\": 3105,\n",
      "        \"timestamp\": 1635180755\n",
      "    }\n",
      "}\n"
     ]
    }
   ],
   "source": [
    "# Using the Python requests library, make an API call to access the current price ETH\n",
    "eth_response = requests.get(eth_url).json()\n",
    "\n",
    "# Use the json.dumps function to review the response data from the API call\n",
    "# Use the indent and sort_keys parameters to make the response object readable\n",
    "print(json.dumps(eth_response, indent=4, sort_keys=True))\n"
   ]
  },
  {
   "cell_type": "markdown",
   "metadata": {},
   "source": [
    "#### Step 3: Navigate the JSON response object to access the current price of each coin, and store each in a variable."
   ]
  },
  {
   "cell_type": "code",
   "execution_count": 8,
   "metadata": {},
   "outputs": [
    {
     "name": "stdout",
     "output_type": "stream",
     "text": [
      "The price for BTC is $63914.0\n"
     ]
    }
   ],
   "source": [
    "# Navigate the BTC response object to access the current price of BTC\n",
    "btc_price = btc_response['data']['1']['quotes']['USD']['price']\n",
    "\n",
    "# Print the current price of BTC\n",
    "print(f\"The price for BTC is ${btc_price}\")\n"
   ]
  },
  {
   "cell_type": "code",
   "execution_count": 9,
   "metadata": {},
   "outputs": [
    {
     "name": "stdout",
     "output_type": "stream",
     "text": [
      "The price for ETH is $4242.66\n"
     ]
    }
   ],
   "source": [
    "# Navigate the BTC response object to access the current price of ETH\n",
    "eth_price = eth_response['data']['1027']['quotes']['USD']['price']\n",
    "\n",
    "# Print the current price of ETH\n",
    "print(f\"The price for ETH is ${eth_price}\")\n"
   ]
  },
  {
   "cell_type": "markdown",
   "metadata": {},
   "source": [
    "### Step 4: Calculate the value, in US dollars, of the current amount of each cryptocurrency and of the entire cryptocurrency wallet."
   ]
  },
  {
   "cell_type": "code",
   "execution_count": 10,
   "metadata": {},
   "outputs": [
    {
     "name": "stdout",
     "output_type": "stream",
     "text": [
      "The value for ETH is $76696.8\n"
     ]
    }
   ],
   "source": [
    "# Compute the current value of the BTC holding \n",
    "btc_value = btc_coins * btc_price\n",
    "\n",
    "# Print current value of your holding in BTC\n",
    "print(f\"The value for ETH is ${btc_value}\")\n"
   ]
  },
  {
   "cell_type": "code",
   "execution_count": 11,
   "metadata": {},
   "outputs": [
    {
     "name": "stdout",
     "output_type": "stream",
     "text": [
      "The value for ETH is $22486.097999999998\n"
     ]
    }
   ],
   "source": [
    "# Compute the current value of the ETH holding \n",
    "eth_value = eth_coins * eth_price\n",
    "\n",
    "# Print current value of your holding in ETH\n",
    "print(f\"The value for ETH is ${eth_value}\")\n"
   ]
  },
  {
   "cell_type": "code",
   "execution_count": 12,
   "metadata": {},
   "outputs": [
    {
     "name": "stdout",
     "output_type": "stream",
     "text": [
      "The total price for ETH and BTC is $99182.9\n"
     ]
    }
   ],
   "source": [
    "# Compute the total value of the cryptocurrency wallet\n",
    "# Add the value of the BTC holding to the value of the ETH holding\n",
    "total_crypto_wallet = eth_value + btc_value\n",
    "\n",
    "# Print current cryptocurrency wallet balance\n",
    "print(f\"The total price for ETH and BTC is ${round(total_crypto_wallet,2)}\")\n"
   ]
  },
  {
   "cell_type": "markdown",
   "metadata": {},
   "source": [
    "### Evaluate the Stock and Bond Holdings by Using the Alpaca SDK\n",
    "\n",
    "In this section, you’ll determine the current value of a member’s stock and bond holdings. You’ll make an API call to Alpaca via the Alpaca SDK to get the current closing prices of the SPDR S&P 500 ETF Trust (ticker: SPY) and of the iShares Core US Aggregate Bond ETF (ticker: AGG). For the prototype, assume that the member holds 110 shares of SPY, which represents the stock portion of their portfolio, and 200 shares of AGG, which represents the bond portion. To do all this, complete the following steps:\n",
    "\n",
    "1. In the `Starter_Code` folder, create an environment file (`.env`) to store the values of your Alpaca API key and Alpaca secret key.\n",
    "\n",
    "2. Set the variables for the Alpaca API and secret keys. Using the Alpaca SDK, create the Alpaca `tradeapi.REST` object. In this object, include the parameters for the Alpaca API key, the secret key, and the version number.\n",
    "\n",
    "3. Set the following parameters for the Alpaca API call:\n",
    "\n",
    "    - `tickers`: Use the tickers for the member’s stock and bond holdings.\n",
    "\n",
    "    - `timeframe`: Use a time frame of one day.\n",
    "\n",
    "    - `start_date` and `end_date`: Use the same date for these parameters, and format them with the date of the previous weekday (or `2020-08-07`). This is because you want the one closing price for the most-recent trading day.\n",
    "\n",
    "4. Get the current closing prices for `SPY` and `AGG` by using the Alpaca `get_barset` function. Format the response as a Pandas DataFrame by including the `df` property at the end of the `get_barset` function.\n",
    "\n",
    "5. Navigating the Alpaca response DataFrame, select the `SPY` and `AGG` closing prices, and store them as variables.\n",
    "\n",
    "6. Calculate the value, in US dollars, of the current amount of shares in each of the stock and bond portions of the portfolio, and print the results.\n"
   ]
  },
  {
   "cell_type": "markdown",
   "metadata": {},
   "source": [
    "#### Review the total number of shares held in both (SPY) and (AGG)."
   ]
  },
  {
   "cell_type": "code",
   "execution_count": 13,
   "metadata": {},
   "outputs": [],
   "source": [
    "# Current amount of shares held in both the stock (SPY) and bond (AGG) portion of the portfolio.\n",
    "spy_shares = 110\n",
    "agg_shares = 200\n"
   ]
  },
  {
   "cell_type": "markdown",
   "metadata": {},
   "source": [
    "#### Step 1: In the `Starter_Code` folder, create an environment file (`.env`) to store the values of your Alpaca API key and Alpaca secret key."
   ]
  },
  {
   "cell_type": "markdown",
   "metadata": {},
   "source": [
    "#### Step 2: Set the variables for the Alpaca API and secret keys. Using the Alpaca SDK, create the Alpaca `tradeapi.REST` object. In this object, include the parameters for the Alpaca API key, the secret key, and the version number."
   ]
  },
  {
   "cell_type": "code",
   "execution_count": 14,
   "metadata": {},
   "outputs": [
    {
     "name": "stdout",
     "output_type": "stream",
     "text": [
      "<class 'str'>\n",
      "<class 'str'>\n"
     ]
    }
   ],
   "source": [
    "# Set the variables for the Alpaca API and secret keys\n",
    "alpaca_api_key = os.getenv(\"ALPACA_API_KEY\")\n",
    "alpaca_secret_key = os.getenv(\"ALPACA_SECRET_KEY\")\n",
    "print(type(alpaca_api_key))\n",
    "print(type(alpaca_secret_key))\n",
    "# Create the Alpaca tradeapi.REST object\n",
    "alpaca = tradeapi.REST(\n",
    "    alpaca_api_key,\n",
    "    alpaca_secret_key,\n",
    "    api_version=\"v2\")\n"
   ]
  },
  {
   "cell_type": "markdown",
   "metadata": {},
   "source": [
    "#### Step 3: Set the following parameters for the Alpaca API call:\n",
    "\n",
    "- `tickers`: Use the tickers for the member’s stock and bond holdings.\n",
    "\n",
    "- `timeframe`: Use a time frame of one day.\n",
    "\n",
    "- `start_date` and `end_date`: Use the same date for these parameters, and format them with the date of the previous weekday (or `2020-08-07`). This is because you want the one closing price for the most-recent trading day.\n"
   ]
  },
  {
   "cell_type": "code",
   "execution_count": 15,
   "metadata": {},
   "outputs": [],
   "source": [
    "# Set the tickers for both the bond and stock portion of the portfolio\n",
    "tickers=[\"SPY\", \"AGG\"]\n",
    "\n",
    "# Set timeframe to 1D \n",
    "timeframe= \"1D\"\n",
    "\n",
    "# Format current date as ISO format\n",
    "# Set both the start and end date at the date of your prior weekday \n",
    "# This will give you the closing price of the previous trading day\n",
    "# Alternatively you can use a start and end date of 2020-08-07\n",
    "start_date = pd.Timestamp(\"2020-08-07\", tz=\"America/New_York\").isoformat()\n",
    "end_date = pd.Timestamp(\"2020-08-07\", tz=\"America/New_York\").isoformat()\n"
   ]
  },
  {
   "cell_type": "markdown",
   "metadata": {},
   "source": [
    "#### Step 4: Get the current closing prices for `SPY` and `AGG` by using the Alpaca `get_barset` function. Format the response as a Pandas DataFrame by including the `df` property at the end of the `get_barset` function."
   ]
  },
  {
   "cell_type": "code",
   "execution_count": 16,
   "metadata": {},
   "outputs": [
    {
     "data": {
      "text/html": [
       "<div>\n",
       "<style scoped>\n",
       "    .dataframe tbody tr th:only-of-type {\n",
       "        vertical-align: middle;\n",
       "    }\n",
       "\n",
       "    .dataframe tbody tr th {\n",
       "        vertical-align: top;\n",
       "    }\n",
       "\n",
       "    .dataframe thead tr th {\n",
       "        text-align: left;\n",
       "    }\n",
       "\n",
       "    .dataframe thead tr:last-of-type th {\n",
       "        text-align: right;\n",
       "    }\n",
       "</style>\n",
       "<table border=\"1\" class=\"dataframe\">\n",
       "  <thead>\n",
       "    <tr>\n",
       "      <th></th>\n",
       "      <th colspan=\"5\" halign=\"left\">AGG</th>\n",
       "      <th colspan=\"5\" halign=\"left\">SPY</th>\n",
       "    </tr>\n",
       "    <tr>\n",
       "      <th></th>\n",
       "      <th>open</th>\n",
       "      <th>high</th>\n",
       "      <th>low</th>\n",
       "      <th>close</th>\n",
       "      <th>volume</th>\n",
       "      <th>open</th>\n",
       "      <th>high</th>\n",
       "      <th>low</th>\n",
       "      <th>close</th>\n",
       "      <th>volume</th>\n",
       "    </tr>\n",
       "    <tr>\n",
       "      <th>time</th>\n",
       "      <th></th>\n",
       "      <th></th>\n",
       "      <th></th>\n",
       "      <th></th>\n",
       "      <th></th>\n",
       "      <th></th>\n",
       "      <th></th>\n",
       "      <th></th>\n",
       "      <th></th>\n",
       "      <th></th>\n",
       "    </tr>\n",
       "  </thead>\n",
       "  <tbody>\n",
       "    <tr>\n",
       "      <th>2020-08-07 00:00:00-04:00</th>\n",
       "      <td>119.66</td>\n",
       "      <td>119.73</td>\n",
       "      <td>119.395</td>\n",
       "      <td>119.445</td>\n",
       "      <td>8830420</td>\n",
       "      <td>333.28</td>\n",
       "      <td>334.88</td>\n",
       "      <td>332.3</td>\n",
       "      <td>334.55</td>\n",
       "      <td>98710236</td>\n",
       "    </tr>\n",
       "  </tbody>\n",
       "</table>\n",
       "</div>"
      ],
      "text/plain": [
       "                              AGG                                        SPY  \\\n",
       "                             open    high      low    close   volume    open   \n",
       "time                                                                           \n",
       "2020-08-07 00:00:00-04:00  119.66  119.73  119.395  119.445  8830420  333.28   \n",
       "\n",
       "                                                            \n",
       "                             high    low   close    volume  \n",
       "time                                                        \n",
       "2020-08-07 00:00:00-04:00  334.88  332.3  334.55  98710236  "
      ]
     },
     "execution_count": 16,
     "metadata": {},
     "output_type": "execute_result"
    }
   ],
   "source": [
    "# Use the Alpaca get_barset function to get current closing prices the portfolio\n",
    "# Be sure to set the `df` property after the function to format the response object as a DataFrame\n",
    "closing_prices= alpaca.get_barset(\n",
    "    tickers,\n",
    "    timeframe,\n",
    "    start = start_date,\n",
    "    end = end_date\n",
    ").df\n",
    "\n",
    "# Review the first 5 rows of the Alpaca DataFrame\n",
    "closing_prices.head()\n"
   ]
  },
  {
   "cell_type": "markdown",
   "metadata": {},
   "source": [
    "#### Step 5: Navigating the Alpaca response DataFrame, select the `SPY` and `AGG` closing prices, and store them as variables."
   ]
  },
  {
   "cell_type": "code",
   "execution_count": 17,
   "metadata": {},
   "outputs": [
    {
     "data": {
      "text/plain": [
       "119.445"
      ]
     },
     "execution_count": 17,
     "metadata": {},
     "output_type": "execute_result"
    }
   ],
   "source": [
    "# Access the closing price for AGG from the Alpaca DataFrame\n",
    "# Converting the value to a floating point number\n",
    "\n",
    "agg_close_price= closing_prices.iloc[0,3]\n",
    "\n",
    "# Print the AGG closing price\n",
    "agg_close_price\n"
   ]
  },
  {
   "cell_type": "code",
   "execution_count": 18,
   "metadata": {},
   "outputs": [
    {
     "data": {
      "text/plain": [
       "334.55"
      ]
     },
     "execution_count": 18,
     "metadata": {},
     "output_type": "execute_result"
    }
   ],
   "source": [
    "# Access the closing price for SPY from the Alpaca DataFrame\n",
    "# Converting the value to a floating point number\n",
    "\n",
    "spy_close_price = closing_prices.iloc[0,8]\n",
    "\n",
    "# Print the SPY closing price\n",
    "spy_close_price\n"
   ]
  },
  {
   "cell_type": "markdown",
   "metadata": {},
   "source": [
    "#### Step 6: Calculate the value, in US dollars, of the current amount of shares in each of the stock and bond portions of the portfolio, and print the results."
   ]
  },
  {
   "cell_type": "code",
   "execution_count": 19,
   "metadata": {},
   "outputs": [
    {
     "name": "stdout",
     "output_type": "stream",
     "text": [
      "The value for bonds in this portfolio is $23889.0\n"
     ]
    }
   ],
   "source": [
    "# Calculate the current value of the bond portion of the portfolio\n",
    "agg_value = agg_shares *agg_close_price\n",
    "\n",
    "# Print the current value of the bond portfolio\n",
    "\n",
    "print(f\"The value for bonds in this portfolio is ${agg_value}\")\n"
   ]
  },
  {
   "cell_type": "code",
   "execution_count": 20,
   "metadata": {},
   "outputs": [
    {
     "name": "stdout",
     "output_type": "stream",
     "text": [
      "The value for stocks in this portfolio is $36800.5\n"
     ]
    }
   ],
   "source": [
    "# Calculate the current value of the stock portion of the portfolio\n",
    "spy_value = spy_shares *spy_close_price\n",
    "\n",
    "# Print the current value of the stock portfolio\n",
    "print(f\"The value for stocks in this portfolio is ${round(spy_value,2)}\")\n"
   ]
  },
  {
   "cell_type": "code",
   "execution_count": 21,
   "metadata": {},
   "outputs": [
    {
     "name": "stdout",
     "output_type": "stream",
     "text": [
      "The value for stocks and bonds in this portfolio is $60689.5\n"
     ]
    }
   ],
   "source": [
    "# Calculate the total value of the stock and bond portion of the portfolio\n",
    "total_stocks_bonds = spy_value+agg_value\n",
    "\n",
    "# Print the current balance of the stock and bond portion of the portfolio\n",
    "print(f\"The value for stocks and bonds in this portfolio is ${total_stocks_bonds}\")\n"
   ]
  },
  {
   "cell_type": "code",
   "execution_count": 22,
   "metadata": {},
   "outputs": [
    {
     "name": "stdout",
     "output_type": "stream",
     "text": [
      "Total value of portfolio with crypto, bonds and stocks is $159872.4\n"
     ]
    }
   ],
   "source": [
    "# Calculate the total value of the member's entire savings portfolio\n",
    "# Add the value of the cryptocurrency walled to the value of the total stocks and bonds\n",
    "total_portfolio = total_stocks_bonds+ total_crypto_wallet\n",
    "\n",
    "# Print current cryptocurrency wallet balance\n",
    "print(f\"Total value of portfolio with crypto, bonds and stocks is ${round(total_portfolio,2)}\")\n"
   ]
  },
  {
   "cell_type": "markdown",
   "metadata": {},
   "source": [
    "### Evaluate the Emergency Fund\n",
    "\n",
    "In this section, you’ll use the valuations for the cryptocurrency wallet and for the stock and bond portions of the portfolio to determine if the credit union member has enough savings to build an emergency fund into their financial plan. To do this, complete the following steps:\n",
    "\n",
    "1. Create a Python list named `savings_data` that has two elements. The first element contains the total value of the cryptocurrency wallet. The second element contains the total value of the stock and bond portions of the portfolio.\n",
    "\n",
    "2. Use the `savings_data` list to create a Pandas DataFrame named `savings_df`, and then display this DataFrame. The function to create the DataFrame should take the following three parameters:\n",
    "\n",
    "    - `savings_data`: Use the list that you just created.\n",
    "\n",
    "    - `columns`: Set this parameter equal to a Python list with a single value called `amount`.\n",
    "\n",
    "    - `index`: Set this parameter equal to a Python list with the values of `crypto` and `stock/bond`.\n",
    "\n",
    "3. Use the `savings_df` DataFrame to plot a pie chart that visualizes the composition of the member’s portfolio. The y-axis of the pie chart uses `amount`. Be sure to add a title.\n",
    "\n",
    "4. Using Python, determine if the current portfolio has enough to create an emergency fund as part of the member’s financial plan. Ideally, an emergency fund should equal to three times the member’s monthly income. To do this, implement the following steps:\n",
    "\n",
    "    1. Create a variable named `emergency_fund_value`, and set it equal to three times the value of the member’s `monthly_income` of $12000. (You set this earlier in Part 1).\n",
    "\n",
    "    2. Create a series of three if statements to determine if the member’s total portfolio is large enough to fund the emergency portfolio:\n",
    "\n",
    "        1. If the total portfolio value is greater than the emergency fund value, display a message congratulating the member for having enough money in this fund.\n",
    "\n",
    "        2. Else if the total portfolio value is equal to the emergency fund value, display a message congratulating the member on reaching this important financial goal.\n",
    "\n",
    "        3. Else the total portfolio is less than the emergency fund value, so display a message showing how many dollars away the member is from reaching the goal. (Subtract the total portfolio value from the emergency fund value.)\n"
   ]
  },
  {
   "cell_type": "markdown",
   "metadata": {},
   "source": [
    "#### Step 1: Create a Python list named `savings_data` that has two elements. The first element contains the total value of the cryptocurrency wallet. The second element contains the total value of the stock and bond portions of the portfolio."
   ]
  },
  {
   "cell_type": "code",
   "execution_count": 23,
   "metadata": {},
   "outputs": [
    {
     "name": "stdout",
     "output_type": "stream",
     "text": [
      "[60689.5, 99182.898]\n"
     ]
    }
   ],
   "source": [
    "# Consolidate financial assets data into a Python list\n",
    "savings_data=[total_stocks_bonds, total_crypto_wallet]\n",
    "\n",
    "# Review the Python list savings_data\n",
    "print(savings_data)\n",
    "    "
   ]
  },
  {
   "cell_type": "markdown",
   "metadata": {},
   "source": [
    "#### Step 2: Use the `savings_data` list to create a Pandas DataFrame named `savings_df`, and then display this DataFrame. The function to create the DataFrame should take the following three parameters:\n",
    "\n",
    "- `savings_data`: Use the list that you just created.\n",
    "\n",
    "- `columns`: Set this parameter equal to a Python list with a single value called `amount`.\n",
    "\n",
    "- `index`: Set this parameter equal to a Python list with the values of `crypto` and `stock/bond`.\n"
   ]
  },
  {
   "cell_type": "code",
   "execution_count": 24,
   "metadata": {},
   "outputs": [
    {
     "data": {
      "text/html": [
       "<div>\n",
       "<style scoped>\n",
       "    .dataframe tbody tr th:only-of-type {\n",
       "        vertical-align: middle;\n",
       "    }\n",
       "\n",
       "    .dataframe tbody tr th {\n",
       "        vertical-align: top;\n",
       "    }\n",
       "\n",
       "    .dataframe thead th {\n",
       "        text-align: right;\n",
       "    }\n",
       "</style>\n",
       "<table border=\"1\" class=\"dataframe\">\n",
       "  <thead>\n",
       "    <tr style=\"text-align: right;\">\n",
       "      <th></th>\n",
       "      <th>Amount</th>\n",
       "    </tr>\n",
       "  </thead>\n",
       "  <tbody>\n",
       "    <tr>\n",
       "      <th>BTC</th>\n",
       "      <td>76696.800</td>\n",
       "    </tr>\n",
       "    <tr>\n",
       "      <th>ETH</th>\n",
       "      <td>22486.098</td>\n",
       "    </tr>\n",
       "    <tr>\n",
       "      <th>SPY</th>\n",
       "      <td>36800.500</td>\n",
       "    </tr>\n",
       "    <tr>\n",
       "      <th>AGG</th>\n",
       "      <td>23889.000</td>\n",
       "    </tr>\n",
       "  </tbody>\n",
       "</table>\n",
       "</div>"
      ],
      "text/plain": [
       "        Amount\n",
       "BTC  76696.800\n",
       "ETH  22486.098\n",
       "SPY  36800.500\n",
       "AGG  23889.000"
      ]
     },
     "execution_count": 24,
     "metadata": {},
     "output_type": "execute_result"
    }
   ],
   "source": [
    "# Create a Pandas DataFrame called savings_df \n",
    "savings_df = pd.DataFrame(\n",
    "    {'Amount':[btc_value, eth_value, spy_value, agg_value]},\n",
    "    index=['BTC', 'ETH', 'SPY', 'AGG']\n",
    ")\n",
    "# Display the savings_df DataFrame\n",
    "savings_df\n"
   ]
  },
  {
   "cell_type": "markdown",
   "metadata": {},
   "source": [
    "#### Step 3: Use the `savings_df` DataFrame to plot a pie chart that visualizes the composition of the member’s portfolio. The y-axis of the pie chart uses `amount`. Be sure to add a title."
   ]
  },
  {
   "cell_type": "code",
   "execution_count": 25,
   "metadata": {},
   "outputs": [
    {
     "data": {
      "text/plain": [
       "<AxesSubplot:title={'center':'The composition of the member’s portfolio'}, ylabel='Amount'>"
      ]
     },
     "execution_count": 25,
     "metadata": {},
     "output_type": "execute_result"
    },
    {
     "data": {
      "image/png": "[encoded data removed]",
      "text/plain": [
       "<Figure size 432x288 with 1 Axes>"
      ]
     },
     "metadata": {},
     "output_type": "display_data"
    }
   ],
   "source": [
    "# Plot the total value of the member's portfolio (crypto and stock/bond) in a pie chart\n",
    "savings_df.plot.pie(y='Amount', title=\"The composition of the member’s portfolio\")\n"
   ]
  },
  {
   "cell_type": "markdown",
   "metadata": {},
   "source": [
    "#### Step 4: Using Python, determine if the current portfolio has enough to create an emergency fund as part of the member’s financial plan. Ideally, an emergency fund should equal to three times the member’s monthly income. To do this, implement the following steps:\n",
    "\n",
    "Step 1. Create a variable named `emergency_fund_value`, and set it equal to three times the value of the member’s `monthly_income` of 12000. (You set this earlier in Part 1).\n",
    "\n",
    "Step 2. Create a series of three if statements to determine if the member’s total portfolio is large enough to fund the emergency portfolio:\n",
    "\n",
    "* If the total portfolio value is greater than the emergency fund value, display a message congratulating the member for having enough money in this fund.\n",
    "\n",
    "* Else if the total portfolio value is equal to the emergency fund value, display a message congratulating the member on reaching this important financial goal.\n",
    "\n",
    "* Else the total portfolio is less than the emergency fund value, so display a message showing how many dollars away the member is from reaching the goal. (Subtract the total portfolio value from the emergency fund value.)\n"
   ]
  },
  {
   "cell_type": "markdown",
   "metadata": {},
   "source": [
    "##### Step 4-1: Create a variable named `emergency_fund_value`, and set it equal to three times the value of the member’s `monthly_income` of 12000. (You set this earlier in Part 1)."
   ]
  },
  {
   "cell_type": "code",
   "execution_count": 26,
   "metadata": {},
   "outputs": [],
   "source": [
    "# Create a variable named emergency_fund_value\n",
    "emergency_fund_value=monthly_income * 3\n"
   ]
  },
  {
   "cell_type": "markdown",
   "metadata": {},
   "source": [
    "##### Step 4-2: Create a series of three if statements to determine if the member’s total portfolio is large enough to fund the emergency portfolio:\n",
    "\n",
    "* If the total portfolio value is greater than the emergency fund value, display a message congratulating the member for having enough money in this fund.\n",
    "\n",
    "* Else if the total portfolio value is equal to the emergency fund value, display a message congratulating the member on reaching this important financial goal.\n",
    "\n",
    "* Else the total portfolio is less than the emergency fund value, so display a message showing how many dollars away the member is from reaching the goal. (Subtract the total portfolio value from the emergency fund value.)"
   ]
  },
  {
   "cell_type": "code",
   "execution_count": 27,
   "metadata": {},
   "outputs": [
    {
     "name": "stdout",
     "output_type": "stream",
     "text": [
      "Congratulation the member for having enough money in this fund.\n"
     ]
    }
   ],
   "source": [
    "# Evaluate the possibility of creating an emergency fund with 3 conditions:\n",
    "if total_portfolio>emergency_fund_value:\n",
    "    print(\"Congratulation the member for having enough money in this fund.\")\n",
    "elif total_portfolio==emergency_funds_value:\n",
    "    print(\"Congratulation the member on reaching this important financial goal.\")\n",
    "else:\n",
    "    print(f\"You are ${(total_portfolio-emergency_funds_value)} from achieinvg your goal.\")"
   ]
  },
  {
   "cell_type": "markdown",
   "metadata": {},
   "source": [
    "## Part 2: Create a Financial Planner for Retirement"
   ]
  },
  {
   "cell_type": "markdown",
   "metadata": {},
   "source": [
    "### Create the Monte Carlo Simulation\n",
    "\n",
    "In this section, you’ll use the MCForecastTools library to create a Monte Carlo simulation for the member’s savings portfolio. To do this, complete the following steps:\n",
    "\n",
    "1. Make an API call via the Alpaca SDK to get 3 years of historical closing prices for a traditional 60/40 portfolio split: 60% stocks (SPY) and 40% bonds (AGG).\n",
    "\n",
    "2. Run a Monte Carlo simulation of 500 samples and 30 years for the 60/40 portfolio, and then plot the results.The following image shows the overlay line plot resulting from a simulation with these characteristics. However, because a random number generator is used to run each live Monte Carlo simulation, your image will differ slightly from this exact image:\n",
    "\n",
    "![A screenshot depicts the resulting plot.](Images/5-4-monte-carlo-line-plot.png)\n",
    "\n",
    "3. Plot the probability distribution of the Monte Carlo simulation. Plot the probability distribution of the Monte Carlo simulation. The following image shows the histogram plot resulting from a simulation with these characteristics. However, because a random number generator is used to run each live Monte Carlo simulation, your image will differ slightly from this exact image:\n",
    "\n",
    "![A screenshot depicts the histogram plot.](Images/5-4-monte-carlo-histogram.png)\n",
    "\n",
    "4. Generate the summary statistics for the Monte Carlo simulation.\n",
    "\n"
   ]
  },
  {
   "cell_type": "markdown",
   "metadata": {},
   "source": [
    "#### Step 1: Make an API call via the Alpaca SDK to get 3 years of historical closing prices for a traditional 60/40 portfolio split: 60% stocks (SPY) and 40% bonds (AGG)."
   ]
  },
  {
   "cell_type": "code",
   "execution_count": 28,
   "metadata": {},
   "outputs": [],
   "source": [
    "# Set start and end dates of 3 years back from your current date\n",
    "# Alternatively, you can use an end date of 2020-08-07 and work 3 years back from that date \n",
    "start_date = pd.Timestamp(\"2017-08-07\", tz=\"America/New_York\").isoformat()\n",
    "end_date = pd.Timestamp(\"2020-08-07\", tz=\"America/New_York\").isoformat()\n",
    "\n",
    "# Set number of rows to 1000 to retrieve the maximum amount of rows\n",
    "limit_rows = 1000"
   ]
  },
  {
   "cell_type": "code",
   "execution_count": 29,
   "metadata": {},
   "outputs": [
    {
     "data": {
      "text/html": [
       "<div>\n",
       "<style scoped>\n",
       "    .dataframe tbody tr th:only-of-type {\n",
       "        vertical-align: middle;\n",
       "    }\n",
       "\n",
       "    .dataframe tbody tr th {\n",
       "        vertical-align: top;\n",
       "    }\n",
       "\n",
       "    .dataframe thead tr th {\n",
       "        text-align: left;\n",
       "    }\n",
       "\n",
       "    .dataframe thead tr:last-of-type th {\n",
       "        text-align: right;\n",
       "    }\n",
       "</style>\n",
       "<table border=\"1\" class=\"dataframe\">\n",
       "  <thead>\n",
       "    <tr>\n",
       "      <th></th>\n",
       "      <th colspan=\"5\" halign=\"left\">AGG</th>\n",
       "      <th colspan=\"5\" halign=\"left\">SPY</th>\n",
       "    </tr>\n",
       "    <tr>\n",
       "      <th></th>\n",
       "      <th>open</th>\n",
       "      <th>high</th>\n",
       "      <th>low</th>\n",
       "      <th>close</th>\n",
       "      <th>volume</th>\n",
       "      <th>open</th>\n",
       "      <th>high</th>\n",
       "      <th>low</th>\n",
       "      <th>close</th>\n",
       "      <th>volume</th>\n",
       "    </tr>\n",
       "    <tr>\n",
       "      <th>time</th>\n",
       "      <th></th>\n",
       "      <th></th>\n",
       "      <th></th>\n",
       "      <th></th>\n",
       "      <th></th>\n",
       "      <th></th>\n",
       "      <th></th>\n",
       "      <th></th>\n",
       "      <th></th>\n",
       "      <th></th>\n",
       "    </tr>\n",
       "  </thead>\n",
       "  <tbody>\n",
       "    <tr>\n",
       "      <th>2020-08-03 00:00:00-04:00</th>\n",
       "      <td>119.37</td>\n",
       "      <td>119.40</td>\n",
       "      <td>119.1903</td>\n",
       "      <td>119.400</td>\n",
       "      <td>17837420</td>\n",
       "      <td>328.3200</td>\n",
       "      <td>329.62</td>\n",
       "      <td>327.73</td>\n",
       "      <td>328.76</td>\n",
       "      <td>71741125</td>\n",
       "    </tr>\n",
       "    <tr>\n",
       "      <th>2020-08-04 00:00:00-04:00</th>\n",
       "      <td>119.42</td>\n",
       "      <td>119.63</td>\n",
       "      <td>119.4200</td>\n",
       "      <td>119.630</td>\n",
       "      <td>21512268</td>\n",
       "      <td>327.8600</td>\n",
       "      <td>330.06</td>\n",
       "      <td>327.86</td>\n",
       "      <td>330.03</td>\n",
       "      <td>73684427</td>\n",
       "    </tr>\n",
       "    <tr>\n",
       "      <th>2020-08-05 00:00:00-04:00</th>\n",
       "      <td>119.39</td>\n",
       "      <td>119.49</td>\n",
       "      <td>119.3100</td>\n",
       "      <td>119.400</td>\n",
       "      <td>34175883</td>\n",
       "      <td>331.4700</td>\n",
       "      <td>332.39</td>\n",
       "      <td>331.18</td>\n",
       "      <td>332.06</td>\n",
       "      <td>72846458</td>\n",
       "    </tr>\n",
       "    <tr>\n",
       "      <th>2020-08-06 00:00:00-04:00</th>\n",
       "      <td>119.62</td>\n",
       "      <td>119.73</td>\n",
       "      <td>119.5300</td>\n",
       "      <td>119.580</td>\n",
       "      <td>9009216</td>\n",
       "      <td>331.4799</td>\n",
       "      <td>334.46</td>\n",
       "      <td>331.13</td>\n",
       "      <td>334.31</td>\n",
       "      <td>76900649</td>\n",
       "    </tr>\n",
       "    <tr>\n",
       "      <th>2020-08-07 00:00:00-04:00</th>\n",
       "      <td>119.66</td>\n",
       "      <td>119.73</td>\n",
       "      <td>119.3950</td>\n",
       "      <td>119.445</td>\n",
       "      <td>8830420</td>\n",
       "      <td>333.2800</td>\n",
       "      <td>334.88</td>\n",
       "      <td>332.30</td>\n",
       "      <td>334.55</td>\n",
       "      <td>98710236</td>\n",
       "    </tr>\n",
       "  </tbody>\n",
       "</table>\n",
       "</div>"
      ],
      "text/plain": [
       "                              AGG                                       \\\n",
       "                             open    high       low    close    volume   \n",
       "time                                                                     \n",
       "2020-08-03 00:00:00-04:00  119.37  119.40  119.1903  119.400  17837420   \n",
       "2020-08-04 00:00:00-04:00  119.42  119.63  119.4200  119.630  21512268   \n",
       "2020-08-05 00:00:00-04:00  119.39  119.49  119.3100  119.400  34175883   \n",
       "2020-08-06 00:00:00-04:00  119.62  119.73  119.5300  119.580   9009216   \n",
       "2020-08-07 00:00:00-04:00  119.66  119.73  119.3950  119.445   8830420   \n",
       "\n",
       "                                SPY                                    \n",
       "                               open    high     low   close    volume  \n",
       "time                                                                   \n",
       "2020-08-03 00:00:00-04:00  328.3200  329.62  327.73  328.76  71741125  \n",
       "2020-08-04 00:00:00-04:00  327.8600  330.06  327.86  330.03  73684427  \n",
       "2020-08-05 00:00:00-04:00  331.4700  332.39  331.18  332.06  72846458  \n",
       "2020-08-06 00:00:00-04:00  331.4799  334.46  331.13  334.31  76900649  \n",
       "2020-08-07 00:00:00-04:00  333.2800  334.88  332.30  334.55  98710236  "
      ]
     },
     "execution_count": 29,
     "metadata": {},
     "output_type": "execute_result"
    }
   ],
   "source": [
    "# Use the Alpaca get_barset function to make the API call to get the 3 years worth of pricing data\n",
    "# The tickers and timeframe parameters should have been set in Part 1 of this activity \n",
    "# The start and end dates should be updated with the information set above\n",
    "# Remember to add the df property to the end of the call so the response is returned as a DataFrame\n",
    "prices_df = alpaca.get_barset(\n",
    "    tickers,\n",
    "    timeframe,\n",
    "    start=start_date,\n",
    "    end=end_date,\n",
    "    ).df\n",
    "\n",
    "\n",
    "# Display both the first and last five rows of the DataFrame\n",
    "prices_df.head() \n",
    "prices_df.tail()\n"
   ]
  },
  {
   "cell_type": "markdown",
   "metadata": {},
   "source": [
    "#### Step 2: Run a Monte Carlo simulation of 500 samples and 30 years for the 60/40 portfolio, and then plot the results."
   ]
  },
  {
   "cell_type": "code",
   "execution_count": 30,
   "metadata": {},
   "outputs": [
    {
     "data": {
      "text/html": [
       "<div>\n",
       "<style scoped>\n",
       "    .dataframe tbody tr th:only-of-type {\n",
       "        vertical-align: middle;\n",
       "    }\n",
       "\n",
       "    .dataframe tbody tr th {\n",
       "        vertical-align: top;\n",
       "    }\n",
       "\n",
       "    .dataframe thead tr th {\n",
       "        text-align: left;\n",
       "    }\n",
       "\n",
       "    .dataframe thead tr:last-of-type th {\n",
       "        text-align: right;\n",
       "    }\n",
       "</style>\n",
       "<table border=\"1\" class=\"dataframe\">\n",
       "  <thead>\n",
       "    <tr>\n",
       "      <th></th>\n",
       "      <th colspan=\"6\" halign=\"left\">AGG</th>\n",
       "      <th colspan=\"6\" halign=\"left\">SPY</th>\n",
       "    </tr>\n",
       "    <tr>\n",
       "      <th></th>\n",
       "      <th>open</th>\n",
       "      <th>high</th>\n",
       "      <th>low</th>\n",
       "      <th>close</th>\n",
       "      <th>volume</th>\n",
       "      <th>daily_return</th>\n",
       "      <th>open</th>\n",
       "      <th>high</th>\n",
       "      <th>low</th>\n",
       "      <th>close</th>\n",
       "      <th>volume</th>\n",
       "      <th>daily_return</th>\n",
       "    </tr>\n",
       "    <tr>\n",
       "      <th>time</th>\n",
       "      <th></th>\n",
       "      <th></th>\n",
       "      <th></th>\n",
       "      <th></th>\n",
       "      <th></th>\n",
       "      <th></th>\n",
       "      <th></th>\n",
       "      <th></th>\n",
       "      <th></th>\n",
       "      <th></th>\n",
       "      <th></th>\n",
       "      <th></th>\n",
       "    </tr>\n",
       "  </thead>\n",
       "  <tbody>\n",
       "    <tr>\n",
       "      <th>2020-03-18 00:00:00-04:00</th>\n",
       "      <td>109.36</td>\n",
       "      <td>110.5700</td>\n",
       "      <td>105.7707</td>\n",
       "      <td>106.33</td>\n",
       "      <td>30117292</td>\n",
       "      <td>NaN</td>\n",
       "      <td>236.25</td>\n",
       "      <td>248.3700</td>\n",
       "      <td>228.02</td>\n",
       "      <td>241.01</td>\n",
       "      <td>298252778</td>\n",
       "      <td>NaN</td>\n",
       "    </tr>\n",
       "    <tr>\n",
       "      <th>2020-03-19 00:00:00-04:00</th>\n",
       "      <td>106.47</td>\n",
       "      <td>109.2200</td>\n",
       "      <td>105.5600</td>\n",
       "      <td>108.97</td>\n",
       "      <td>21031320</td>\n",
       "      <td>0.024828</td>\n",
       "      <td>239.25</td>\n",
       "      <td>247.3800</td>\n",
       "      <td>232.22</td>\n",
       "      <td>241.16</td>\n",
       "      <td>261233795</td>\n",
       "      <td>0.000622</td>\n",
       "    </tr>\n",
       "    <tr>\n",
       "      <th>2020-03-20 00:00:00-04:00</th>\n",
       "      <td>108.46</td>\n",
       "      <td>110.2399</td>\n",
       "      <td>108.4600</td>\n",
       "      <td>109.49</td>\n",
       "      <td>28449412</td>\n",
       "      <td>0.004772</td>\n",
       "      <td>242.53</td>\n",
       "      <td>244.4700</td>\n",
       "      <td>228.50</td>\n",
       "      <td>228.94</td>\n",
       "      <td>302880969</td>\n",
       "      <td>-0.050672</td>\n",
       "    </tr>\n",
       "    <tr>\n",
       "      <th>2020-03-23 00:00:00-04:00</th>\n",
       "      <td>109.90</td>\n",
       "      <td>112.9400</td>\n",
       "      <td>109.0000</td>\n",
       "      <td>112.55</td>\n",
       "      <td>23873510</td>\n",
       "      <td>0.027948</td>\n",
       "      <td>228.19</td>\n",
       "      <td>229.6833</td>\n",
       "      <td>218.26</td>\n",
       "      <td>222.51</td>\n",
       "      <td>280560712</td>\n",
       "      <td>-0.028086</td>\n",
       "    </tr>\n",
       "    <tr>\n",
       "      <th>2020-03-24 00:00:00-04:00</th>\n",
       "      <td>111.52</td>\n",
       "      <td>113.5000</td>\n",
       "      <td>111.0754</td>\n",
       "      <td>113.29</td>\n",
       "      <td>18141498</td>\n",
       "      <td>0.006575</td>\n",
       "      <td>234.42</td>\n",
       "      <td>244.1000</td>\n",
       "      <td>233.80</td>\n",
       "      <td>243.59</td>\n",
       "      <td>211595249</td>\n",
       "      <td>0.094737</td>\n",
       "    </tr>\n",
       "  </tbody>\n",
       "</table>\n",
       "</div>"
      ],
      "text/plain": [
       "                              AGG                                        \\\n",
       "                             open      high       low   close    volume   \n",
       "time                                                                      \n",
       "2020-03-18 00:00:00-04:00  109.36  110.5700  105.7707  106.33  30117292   \n",
       "2020-03-19 00:00:00-04:00  106.47  109.2200  105.5600  108.97  21031320   \n",
       "2020-03-20 00:00:00-04:00  108.46  110.2399  108.4600  109.49  28449412   \n",
       "2020-03-23 00:00:00-04:00  109.90  112.9400  109.0000  112.55  23873510   \n",
       "2020-03-24 00:00:00-04:00  111.52  113.5000  111.0754  113.29  18141498   \n",
       "\n",
       "                                           SPY                            \\\n",
       "                          daily_return    open      high     low   close   \n",
       "time                                                                       \n",
       "2020-03-18 00:00:00-04:00          NaN  236.25  248.3700  228.02  241.01   \n",
       "2020-03-19 00:00:00-04:00     0.024828  239.25  247.3800  232.22  241.16   \n",
       "2020-03-20 00:00:00-04:00     0.004772  242.53  244.4700  228.50  228.94   \n",
       "2020-03-23 00:00:00-04:00     0.027948  228.19  229.6833  218.26  222.51   \n",
       "2020-03-24 00:00:00-04:00     0.006575  234.42  244.1000  233.80  243.59   \n",
       "\n",
       "                                                   \n",
       "                              volume daily_return  \n",
       "time                                               \n",
       "2020-03-18 00:00:00-04:00  298252778          NaN  \n",
       "2020-03-19 00:00:00-04:00  261233795     0.000622  \n",
       "2020-03-20 00:00:00-04:00  302880969    -0.050672  \n",
       "2020-03-23 00:00:00-04:00  280560712    -0.028086  \n",
       "2020-03-24 00:00:00-04:00  211595249     0.094737  "
      ]
     },
     "execution_count": 30,
     "metadata": {},
     "output_type": "execute_result"
    }
   ],
   "source": [
    "# Configure the Monte Carlo simulation to forecast 30 years cumulative returns\n",
    "# The weights should be split 40% to AGG and 60% to SPY.\n",
    "# Run 500 samples.\n",
    "MC_30_weight = MCSimulation(portfolio_data = prices_df, weights=[.60,.40], \n",
    "                              num_simulation = 500, num_trading_days= 252*30)\n",
    "\n",
    "# Review the simulation input data\n",
    "MC_30_weight.portfolio_data.head()\n"
   ]
  },
  {
   "cell_type": "code",
   "execution_count": 31,
   "metadata": {},
   "outputs": [
    {
     "name": "stdout",
     "output_type": "stream",
     "text": [
      "Running Monte Carlo simulation number 0.\n",
      "Running Monte Carlo simulation number 10.\n",
      "Running Monte Carlo simulation number 20.\n",
      "Running Monte Carlo simulation number 30.\n",
      "Running Monte Carlo simulation number 40.\n",
      "Running Monte Carlo simulation number 50.\n",
      "Running Monte Carlo simulation number 60.\n",
      "Running Monte Carlo simulation number 70.\n",
      "Running Monte Carlo simulation number 80.\n",
      "Running Monte Carlo simulation number 90.\n",
      "Running Monte Carlo simulation number 100.\n",
      "Running Monte Carlo simulation number 110.\n",
      "Running Monte Carlo simulation number 120.\n",
      "Running Monte Carlo simulation number 130.\n",
      "Running Monte Carlo simulation number 140.\n",
      "Running Monte Carlo simulation number 150.\n",
      "Running Monte Carlo simulation number 160.\n",
      "Running Monte Carlo simulation number 170.\n",
      "Running Monte Carlo simulation number 180.\n",
      "Running Monte Carlo simulation number 190.\n",
      "Running Monte Carlo simulation number 200.\n",
      "Running Monte Carlo simulation number 210.\n",
      "Running Monte Carlo simulation number 220.\n",
      "Running Monte Carlo simulation number 230.\n",
      "Running Monte Carlo simulation number 240.\n",
      "Running Monte Carlo simulation number 250.\n",
      "Running Monte Carlo simulation number 260.\n",
      "Running Monte Carlo simulation number 270.\n",
      "Running Monte Carlo simulation number 280.\n",
      "Running Monte Carlo simulation number 290.\n",
      "Running Monte Carlo simulation number 300.\n",
      "Running Monte Carlo simulation number 310.\n",
      "Running Monte Carlo simulation number 320.\n",
      "Running Monte Carlo simulation number 330.\n",
      "Running Monte Carlo simulation number 340.\n",
      "Running Monte Carlo simulation number 350.\n",
      "Running Monte Carlo simulation number 360.\n",
      "Running Monte Carlo simulation number 370.\n",
      "Running Monte Carlo simulation number 380.\n",
      "Running Monte Carlo simulation number 390.\n",
      "Running Monte Carlo simulation number 400.\n",
      "Running Monte Carlo simulation number 410.\n",
      "Running Monte Carlo simulation number 420.\n",
      "Running Monte Carlo simulation number 430.\n",
      "Running Monte Carlo simulation number 440.\n",
      "Running Monte Carlo simulation number 450.\n",
      "Running Monte Carlo simulation number 460.\n",
      "Running Monte Carlo simulation number 470.\n",
      "Running Monte Carlo simulation number 480.\n",
      "Running Monte Carlo simulation number 490.\n"
     ]
    },
    {
     "data": {
      "text/html": [
       "<div>\n",
       "<style scoped>\n",
       "    .dataframe tbody tr th:only-of-type {\n",
       "        vertical-align: middle;\n",
       "    }\n",
       "\n",
       "    .dataframe tbody tr th {\n",
       "        vertical-align: top;\n",
       "    }\n",
       "\n",
       "    .dataframe thead th {\n",
       "        text-align: right;\n",
       "    }\n",
       "</style>\n",
       "<table border=\"1\" class=\"dataframe\">\n",
       "  <thead>\n",
       "    <tr style=\"text-align: right;\">\n",
       "      <th></th>\n",
       "      <th>0</th>\n",
       "      <th>1</th>\n",
       "      <th>2</th>\n",
       "      <th>3</th>\n",
       "      <th>4</th>\n",
       "      <th>5</th>\n",
       "      <th>6</th>\n",
       "      <th>7</th>\n",
       "      <th>8</th>\n",
       "      <th>9</th>\n",
       "      <th>...</th>\n",
       "      <th>490</th>\n",
       "      <th>491</th>\n",
       "      <th>492</th>\n",
       "      <th>493</th>\n",
       "      <th>494</th>\n",
       "      <th>495</th>\n",
       "      <th>496</th>\n",
       "      <th>497</th>\n",
       "      <th>498</th>\n",
       "      <th>499</th>\n",
       "    </tr>\n",
       "  </thead>\n",
       "  <tbody>\n",
       "    <tr>\n",
       "      <th>0</th>\n",
       "      <td>1.000000e+00</td>\n",
       "      <td>1.000000e+00</td>\n",
       "      <td>1.000000e+00</td>\n",
       "      <td>1.000000e+00</td>\n",
       "      <td>1.000000e+00</td>\n",
       "      <td>1.000000e+00</td>\n",
       "      <td>1.000000e+00</td>\n",
       "      <td>1.000000e+00</td>\n",
       "      <td>1.000000e+00</td>\n",
       "      <td>1.000000e+00</td>\n",
       "      <td>...</td>\n",
       "      <td>1.000000e+00</td>\n",
       "      <td>1.000000e+00</td>\n",
       "      <td>1.000000e+00</td>\n",
       "      <td>1.000000e+00</td>\n",
       "      <td>1.000000e+00</td>\n",
       "      <td>1.000000e+00</td>\n",
       "      <td>1.000000e+00</td>\n",
       "      <td>1.000000e+00</td>\n",
       "      <td>1.000000e+00</td>\n",
       "      <td>1.000000e+00</td>\n",
       "    </tr>\n",
       "    <tr>\n",
       "      <th>1</th>\n",
       "      <td>1.003257e+00</td>\n",
       "      <td>9.996028e-01</td>\n",
       "      <td>1.004313e+00</td>\n",
       "      <td>1.000787e+00</td>\n",
       "      <td>9.828836e-01</td>\n",
       "      <td>9.974371e-01</td>\n",
       "      <td>9.985715e-01</td>\n",
       "      <td>9.989933e-01</td>\n",
       "      <td>9.915137e-01</td>\n",
       "      <td>1.015353e+00</td>\n",
       "      <td>...</td>\n",
       "      <td>1.000080e+00</td>\n",
       "      <td>1.009678e+00</td>\n",
       "      <td>1.003947e+00</td>\n",
       "      <td>1.000498e+00</td>\n",
       "      <td>9.970231e-01</td>\n",
       "      <td>9.901579e-01</td>\n",
       "      <td>1.001744e+00</td>\n",
       "      <td>9.895048e-01</td>\n",
       "      <td>1.009413e+00</td>\n",
       "      <td>9.950402e-01</td>\n",
       "    </tr>\n",
       "    <tr>\n",
       "      <th>2</th>\n",
       "      <td>1.007071e+00</td>\n",
       "      <td>9.934955e-01</td>\n",
       "      <td>1.003030e+00</td>\n",
       "      <td>9.985920e-01</td>\n",
       "      <td>9.857061e-01</td>\n",
       "      <td>1.000236e+00</td>\n",
       "      <td>1.005129e+00</td>\n",
       "      <td>1.003218e+00</td>\n",
       "      <td>9.891882e-01</td>\n",
       "      <td>1.014352e+00</td>\n",
       "      <td>...</td>\n",
       "      <td>1.005081e+00</td>\n",
       "      <td>1.016232e+00</td>\n",
       "      <td>1.002806e+00</td>\n",
       "      <td>9.944513e-01</td>\n",
       "      <td>1.005537e+00</td>\n",
       "      <td>9.827708e-01</td>\n",
       "      <td>1.005975e+00</td>\n",
       "      <td>9.932572e-01</td>\n",
       "      <td>1.004802e+00</td>\n",
       "      <td>9.891945e-01</td>\n",
       "    </tr>\n",
       "    <tr>\n",
       "      <th>3</th>\n",
       "      <td>1.011588e+00</td>\n",
       "      <td>9.930107e-01</td>\n",
       "      <td>1.020622e+00</td>\n",
       "      <td>9.903501e-01</td>\n",
       "      <td>9.959568e-01</td>\n",
       "      <td>9.963763e-01</td>\n",
       "      <td>1.009550e+00</td>\n",
       "      <td>1.017959e+00</td>\n",
       "      <td>9.824575e-01</td>\n",
       "      <td>1.033607e+00</td>\n",
       "      <td>...</td>\n",
       "      <td>9.918055e-01</td>\n",
       "      <td>1.014533e+00</td>\n",
       "      <td>1.013904e+00</td>\n",
       "      <td>1.009156e+00</td>\n",
       "      <td>1.002835e+00</td>\n",
       "      <td>1.001509e+00</td>\n",
       "      <td>1.005667e+00</td>\n",
       "      <td>9.952763e-01</td>\n",
       "      <td>9.977298e-01</td>\n",
       "      <td>9.771251e-01</td>\n",
       "    </tr>\n",
       "    <tr>\n",
       "      <th>4</th>\n",
       "      <td>1.009008e+00</td>\n",
       "      <td>9.805948e-01</td>\n",
       "      <td>1.027525e+00</td>\n",
       "      <td>9.986090e-01</td>\n",
       "      <td>9.806160e-01</td>\n",
       "      <td>1.003849e+00</td>\n",
       "      <td>1.013404e+00</td>\n",
       "      <td>1.029928e+00</td>\n",
       "      <td>9.787005e-01</td>\n",
       "      <td>1.037857e+00</td>\n",
       "      <td>...</td>\n",
       "      <td>9.930488e-01</td>\n",
       "      <td>1.010703e+00</td>\n",
       "      <td>1.020356e+00</td>\n",
       "      <td>1.020969e+00</td>\n",
       "      <td>9.884623e-01</td>\n",
       "      <td>1.003504e+00</td>\n",
       "      <td>9.977781e-01</td>\n",
       "      <td>9.896160e-01</td>\n",
       "      <td>1.007626e+00</td>\n",
       "      <td>9.811340e-01</td>\n",
       "    </tr>\n",
       "    <tr>\n",
       "      <th>...</th>\n",
       "      <td>...</td>\n",
       "      <td>...</td>\n",
       "      <td>...</td>\n",
       "      <td>...</td>\n",
       "      <td>...</td>\n",
       "      <td>...</td>\n",
       "      <td>...</td>\n",
       "      <td>...</td>\n",
       "      <td>...</td>\n",
       "      <td>...</td>\n",
       "      <td>...</td>\n",
       "      <td>...</td>\n",
       "      <td>...</td>\n",
       "      <td>...</td>\n",
       "      <td>...</td>\n",
       "      <td>...</td>\n",
       "      <td>...</td>\n",
       "      <td>...</td>\n",
       "      <td>...</td>\n",
       "      <td>...</td>\n",
       "      <td>...</td>\n",
       "    </tr>\n",
       "    <tr>\n",
       "      <th>7556</th>\n",
       "      <td>1.335609e+07</td>\n",
       "      <td>2.739591e+06</td>\n",
       "      <td>1.895146e+07</td>\n",
       "      <td>8.851477e+06</td>\n",
       "      <td>5.060701e+06</td>\n",
       "      <td>1.247803e+07</td>\n",
       "      <td>3.865094e+06</td>\n",
       "      <td>1.114519e+07</td>\n",
       "      <td>1.644076e+07</td>\n",
       "      <td>2.478312e+07</td>\n",
       "      <td>...</td>\n",
       "      <td>4.444578e+06</td>\n",
       "      <td>3.617878e+06</td>\n",
       "      <td>3.259542e+06</td>\n",
       "      <td>7.231828e+06</td>\n",
       "      <td>7.465737e+06</td>\n",
       "      <td>4.632491e+06</td>\n",
       "      <td>9.420241e+06</td>\n",
       "      <td>8.321821e+06</td>\n",
       "      <td>8.824081e+06</td>\n",
       "      <td>4.897642e+06</td>\n",
       "    </tr>\n",
       "    <tr>\n",
       "      <th>7557</th>\n",
       "      <td>1.319015e+07</td>\n",
       "      <td>2.751757e+06</td>\n",
       "      <td>1.905854e+07</td>\n",
       "      <td>8.736200e+06</td>\n",
       "      <td>5.045419e+06</td>\n",
       "      <td>1.249299e+07</td>\n",
       "      <td>3.909023e+06</td>\n",
       "      <td>1.104302e+07</td>\n",
       "      <td>1.649415e+07</td>\n",
       "      <td>2.467857e+07</td>\n",
       "      <td>...</td>\n",
       "      <td>4.467959e+06</td>\n",
       "      <td>3.633525e+06</td>\n",
       "      <td>3.246543e+06</td>\n",
       "      <td>7.265623e+06</td>\n",
       "      <td>7.511420e+06</td>\n",
       "      <td>4.635690e+06</td>\n",
       "      <td>9.309751e+06</td>\n",
       "      <td>8.374494e+06</td>\n",
       "      <td>8.955465e+06</td>\n",
       "      <td>4.860906e+06</td>\n",
       "    </tr>\n",
       "    <tr>\n",
       "      <th>7558</th>\n",
       "      <td>1.337166e+07</td>\n",
       "      <td>2.760940e+06</td>\n",
       "      <td>1.922144e+07</td>\n",
       "      <td>8.590971e+06</td>\n",
       "      <td>5.027515e+06</td>\n",
       "      <td>1.251321e+07</td>\n",
       "      <td>3.854331e+06</td>\n",
       "      <td>1.118941e+07</td>\n",
       "      <td>1.665994e+07</td>\n",
       "      <td>2.460009e+07</td>\n",
       "      <td>...</td>\n",
       "      <td>4.406814e+06</td>\n",
       "      <td>3.625117e+06</td>\n",
       "      <td>3.261393e+06</td>\n",
       "      <td>7.337384e+06</td>\n",
       "      <td>7.536787e+06</td>\n",
       "      <td>4.629014e+06</td>\n",
       "      <td>9.499045e+06</td>\n",
       "      <td>8.369862e+06</td>\n",
       "      <td>8.863703e+06</td>\n",
       "      <td>4.842952e+06</td>\n",
       "    </tr>\n",
       "    <tr>\n",
       "      <th>7559</th>\n",
       "      <td>1.360243e+07</td>\n",
       "      <td>2.802381e+06</td>\n",
       "      <td>1.921718e+07</td>\n",
       "      <td>8.725304e+06</td>\n",
       "      <td>5.027034e+06</td>\n",
       "      <td>1.261932e+07</td>\n",
       "      <td>3.869924e+06</td>\n",
       "      <td>1.114701e+07</td>\n",
       "      <td>1.663862e+07</td>\n",
       "      <td>2.451847e+07</td>\n",
       "      <td>...</td>\n",
       "      <td>4.422988e+06</td>\n",
       "      <td>3.673019e+06</td>\n",
       "      <td>3.320537e+06</td>\n",
       "      <td>7.279104e+06</td>\n",
       "      <td>7.612537e+06</td>\n",
       "      <td>4.569254e+06</td>\n",
       "      <td>9.524621e+06</td>\n",
       "      <td>8.417131e+06</td>\n",
       "      <td>8.879752e+06</td>\n",
       "      <td>4.836513e+06</td>\n",
       "    </tr>\n",
       "    <tr>\n",
       "      <th>7560</th>\n",
       "      <td>1.348358e+07</td>\n",
       "      <td>2.796168e+06</td>\n",
       "      <td>1.932349e+07</td>\n",
       "      <td>8.612212e+06</td>\n",
       "      <td>5.071304e+06</td>\n",
       "      <td>1.249367e+07</td>\n",
       "      <td>3.842001e+06</td>\n",
       "      <td>1.123474e+07</td>\n",
       "      <td>1.655690e+07</td>\n",
       "      <td>2.420369e+07</td>\n",
       "      <td>...</td>\n",
       "      <td>4.379560e+06</td>\n",
       "      <td>3.665955e+06</td>\n",
       "      <td>3.324452e+06</td>\n",
       "      <td>7.362578e+06</td>\n",
       "      <td>7.642319e+06</td>\n",
       "      <td>4.545995e+06</td>\n",
       "      <td>9.592418e+06</td>\n",
       "      <td>8.326121e+06</td>\n",
       "      <td>8.766410e+06</td>\n",
       "      <td>4.887796e+06</td>\n",
       "    </tr>\n",
       "  </tbody>\n",
       "</table>\n",
       "<p>7561 rows × 500 columns</p>\n",
       "</div>"
      ],
      "text/plain": [
       "               0             1             2             3             4    \\\n",
       "0     1.000000e+00  1.000000e+00  1.000000e+00  1.000000e+00  1.000000e+00   \n",
       "1     1.003257e+00  9.996028e-01  1.004313e+00  1.000787e+00  9.828836e-01   \n",
       "2     1.007071e+00  9.934955e-01  1.003030e+00  9.985920e-01  9.857061e-01   \n",
       "3     1.011588e+00  9.930107e-01  1.020622e+00  9.903501e-01  9.959568e-01   \n",
       "4     1.009008e+00  9.805948e-01  1.027525e+00  9.986090e-01  9.806160e-01   \n",
       "...            ...           ...           ...           ...           ...   \n",
       "7556  1.335609e+07  2.739591e+06  1.895146e+07  8.851477e+06  5.060701e+06   \n",
       "7557  1.319015e+07  2.751757e+06  1.905854e+07  8.736200e+06  5.045419e+06   \n",
       "7558  1.337166e+07  2.760940e+06  1.922144e+07  8.590971e+06  5.027515e+06   \n",
       "7559  1.360243e+07  2.802381e+06  1.921718e+07  8.725304e+06  5.027034e+06   \n",
       "7560  1.348358e+07  2.796168e+06  1.932349e+07  8.612212e+06  5.071304e+06   \n",
       "\n",
       "               5             6             7             8             9    \\\n",
       "0     1.000000e+00  1.000000e+00  1.000000e+00  1.000000e+00  1.000000e+00   \n",
       "1     9.974371e-01  9.985715e-01  9.989933e-01  9.915137e-01  1.015353e+00   \n",
       "2     1.000236e+00  1.005129e+00  1.003218e+00  9.891882e-01  1.014352e+00   \n",
       "3     9.963763e-01  1.009550e+00  1.017959e+00  9.824575e-01  1.033607e+00   \n",
       "4     1.003849e+00  1.013404e+00  1.029928e+00  9.787005e-01  1.037857e+00   \n",
       "...            ...           ...           ...           ...           ...   \n",
       "7556  1.247803e+07  3.865094e+06  1.114519e+07  1.644076e+07  2.478312e+07   \n",
       "7557  1.249299e+07  3.909023e+06  1.104302e+07  1.649415e+07  2.467857e+07   \n",
       "7558  1.251321e+07  3.854331e+06  1.118941e+07  1.665994e+07  2.460009e+07   \n",
       "7559  1.261932e+07  3.869924e+06  1.114701e+07  1.663862e+07  2.451847e+07   \n",
       "7560  1.249367e+07  3.842001e+06  1.123474e+07  1.655690e+07  2.420369e+07   \n",
       "\n",
       "      ...           490           491           492           493  \\\n",
       "0     ...  1.000000e+00  1.000000e+00  1.000000e+00  1.000000e+00   \n",
       "1     ...  1.000080e+00  1.009678e+00  1.003947e+00  1.000498e+00   \n",
       "2     ...  1.005081e+00  1.016232e+00  1.002806e+00  9.944513e-01   \n",
       "3     ...  9.918055e-01  1.014533e+00  1.013904e+00  1.009156e+00   \n",
       "4     ...  9.930488e-01  1.010703e+00  1.020356e+00  1.020969e+00   \n",
       "...   ...           ...           ...           ...           ...   \n",
       "7556  ...  4.444578e+06  3.617878e+06  3.259542e+06  7.231828e+06   \n",
       "7557  ...  4.467959e+06  3.633525e+06  3.246543e+06  7.265623e+06   \n",
       "7558  ...  4.406814e+06  3.625117e+06  3.261393e+06  7.337384e+06   \n",
       "7559  ...  4.422988e+06  3.673019e+06  3.320537e+06  7.279104e+06   \n",
       "7560  ...  4.379560e+06  3.665955e+06  3.324452e+06  7.362578e+06   \n",
       "\n",
       "               494           495           496           497           498  \\\n",
       "0     1.000000e+00  1.000000e+00  1.000000e+00  1.000000e+00  1.000000e+00   \n",
       "1     9.970231e-01  9.901579e-01  1.001744e+00  9.895048e-01  1.009413e+00   \n",
       "2     1.005537e+00  9.827708e-01  1.005975e+00  9.932572e-01  1.004802e+00   \n",
       "3     1.002835e+00  1.001509e+00  1.005667e+00  9.952763e-01  9.977298e-01   \n",
       "4     9.884623e-01  1.003504e+00  9.977781e-01  9.896160e-01  1.007626e+00   \n",
       "...            ...           ...           ...           ...           ...   \n",
       "7556  7.465737e+06  4.632491e+06  9.420241e+06  8.321821e+06  8.824081e+06   \n",
       "7557  7.511420e+06  4.635690e+06  9.309751e+06  8.374494e+06  8.955465e+06   \n",
       "7558  7.536787e+06  4.629014e+06  9.499045e+06  8.369862e+06  8.863703e+06   \n",
       "7559  7.612537e+06  4.569254e+06  9.524621e+06  8.417131e+06  8.879752e+06   \n",
       "7560  7.642319e+06  4.545995e+06  9.592418e+06  8.326121e+06  8.766410e+06   \n",
       "\n",
       "               499  \n",
       "0     1.000000e+00  \n",
       "1     9.950402e-01  \n",
       "2     9.891945e-01  \n",
       "3     9.771251e-01  \n",
       "4     9.811340e-01  \n",
       "...            ...  \n",
       "7556  4.897642e+06  \n",
       "7557  4.860906e+06  \n",
       "7558  4.842952e+06  \n",
       "7559  4.836513e+06  \n",
       "7560  4.887796e+06  \n",
       "\n",
       "[7561 rows x 500 columns]"
      ]
     },
     "execution_count": 31,
     "metadata": {},
     "output_type": "execute_result"
    }
   ],
   "source": [
    "# Run the Monte Carlo simulation to forecast 30 years cumulative returns\n",
    "MC_30_weight.calc_cumulative_return()\n"
   ]
  },
  {
   "cell_type": "code",
   "execution_count": 32,
   "metadata": {},
   "outputs": [
    {
     "data": {
      "image/png": "[encoded data removed]",
      "text/plain": [
       "<Figure size 432x288 with 1 Axes>"
      ]
     },
     "metadata": {
      "needs_background": "light"
     },
     "output_type": "display_data"
    }
   ],
   "source": [
    "# Visualize the 30-year Monte Carlo simulation by creating an\n",
    "# overlay line plot\n",
    "MC_weight_line_plot = MC_30_weight.plot_simulation()\n"
   ]
  },
  {
   "cell_type": "markdown",
   "metadata": {},
   "source": [
    "#### Step 3: Plot the probability distribution of the Monte Carlo simulation."
   ]
  },
  {
   "cell_type": "code",
   "execution_count": 33,
   "metadata": {},
   "outputs": [
    {
     "data": {
      "image/png": "[encoded data removed]",
      "text/plain": [
       "<Figure size 432x288 with 1 Axes>"
      ]
     },
     "metadata": {
      "needs_background": "light"
     },
     "output_type": "display_data"
    }
   ],
   "source": [
    "# Visualize the probability distribution of the 30-year Monte Carlo simulation \n",
    "# by plotting a histogram\n",
    "MC_weight_distribution_plot = MC_30_weight.plot_distribution()\n"
   ]
  },
  {
   "cell_type": "markdown",
   "metadata": {},
   "source": [
    "#### Step 4: Generate the summary statistics for the Monte Carlo simulation."
   ]
  },
  {
   "cell_type": "code",
   "execution_count": 34,
   "metadata": {},
   "outputs": [
    {
     "name": "stdout",
     "output_type": "stream",
     "text": [
      "count           5.000000e+02\n",
      "mean            1.012578e+07\n",
      "std             9.150163e+06\n",
      "min             9.076213e+05\n",
      "25%             4.396481e+06\n",
      "50%             7.631962e+06\n",
      "75%             1.242385e+07\n",
      "max             7.857664e+07\n",
      "95% CI Lower    1.913669e+06\n",
      "95% CI Upper    3.215665e+07\n",
      "Name: 7560, dtype: float64\n"
     ]
    }
   ],
   "source": [
    "# Generate summary statistics from the 30-year Monte Carlo simulation results\n",
    "# Save the results as a variable\n",
    "MC_weight_30_table = MC_30_weight.summarize_cumulative_return()\n",
    "\n",
    "\n",
    "# Review the 30-year Monte Carlo summary statistics\n",
    "print(MC_weight_30_table)"
   ]
  },
  {
   "cell_type": "markdown",
   "metadata": {},
   "source": [
    "### Analyze the Retirement Portfolio Forecasts\n",
    "\n",
    "Using the current value of only the stock and bond portion of the member's portfolio and the summary statistics that you generated from the Monte Carlo simulation, answer the following question in your Jupyter notebook:\n",
    "\n",
    "-  What are the lower and upper bounds for the expected value of the portfolio with a 95% confidence interval?\n"
   ]
  },
  {
   "cell_type": "code",
   "execution_count": 35,
   "metadata": {},
   "outputs": [
    {
     "name": "stdout",
     "output_type": "stream",
     "text": [
      "The value for stocks and bonds in this portfolio is $60689.5\n"
     ]
    }
   ],
   "source": [
    "# Print the current balance of the stock and bond portion of the members portfolio\n",
    "print(f\"The value for stocks and bonds in this portfolio is ${total_stocks_bonds}\")\n"
   ]
  },
  {
   "cell_type": "code",
   "execution_count": 36,
   "metadata": {},
   "outputs": [
    {
     "name": "stdout",
     "output_type": "stream",
     "text": [
      "There is a 95% chance that this portfolio will range between $116139585990.19 and $1951571225976.82.\n"
     ]
    }
   ],
   "source": [
    "# Use the lower and upper `95%` confidence intervals to calculate the range of the possible outcomes for the current stock/bond portfolio\n",
    "ci_lower_thirty_cumulative_return = round(MC_weight_30_table[8]*total_stocks_bonds,2)\n",
    "ci_upper_thirty_cumulative_return = round(MC_weight_30_table[9]*total_stocks_bonds,2)\n",
    "\n",
    "# Print the result of your calculations\n",
    "print(f\"There is a 95% chance that this portfolio will range between\"\n",
    "           f\" ${ci_lower_thirty_cumulative_return} and ${ci_upper_thirty_cumulative_return}.\")\n"
   ]
  },
  {
   "cell_type": "markdown",
   "metadata": {},
   "source": [
    "### Forecast Cumulative Returns in 10 Years\n",
    "\n",
    "The CTO of the credit union is impressed with your work on these planning tools but wonders if 30 years is a long time to wait until retirement. So, your next task is to adjust the retirement portfolio and run a new Monte Carlo simulation to find out if the changes will allow members to retire earlier.\n",
    "\n",
    "For this new Monte Carlo simulation, do the following: \n",
    "\n",
    "- Forecast the cumulative returns for 10 years from now. Because of the shortened investment horizon (30 years to 10 years), the portfolio needs to invest more heavily in the riskier asset&mdash;that is, stock&mdash;to help accumulate wealth for retirement. \n",
    "\n",
    "- Adjust the weights of the retirement portfolio so that the composition for the Monte Carlo simulation consists of 20% bonds and 80% stocks. \n",
    "\n",
    "- Run the simulation over 500 samples, and use the same data that the API call to Alpaca generated.\n",
    "\n",
    "- Based on the new Monte Carlo simulation, answer the following questions in your Jupyter notebook:\n",
    "\n",
    "    - Using the current value of only the stock and bond portion of the member's portfolio and the summary statistics that you generated from the new Monte Carlo simulation, what are the lower and upper bounds for the expected value of the portfolio (with the new weights) with a 95% confidence interval?\n",
    "\n",
    "    - Will weighting the portfolio more heavily toward stocks allow the credit union members to retire after only 10 years?\n"
   ]
  },
  {
   "cell_type": "code",
   "execution_count": 37,
   "metadata": {},
   "outputs": [
    {
     "data": {
      "text/html": [
       "<div>\n",
       "<style scoped>\n",
       "    .dataframe tbody tr th:only-of-type {\n",
       "        vertical-align: middle;\n",
       "    }\n",
       "\n",
       "    .dataframe tbody tr th {\n",
       "        vertical-align: top;\n",
       "    }\n",
       "\n",
       "    .dataframe thead tr th {\n",
       "        text-align: left;\n",
       "    }\n",
       "\n",
       "    .dataframe thead tr:last-of-type th {\n",
       "        text-align: right;\n",
       "    }\n",
       "</style>\n",
       "<table border=\"1\" class=\"dataframe\">\n",
       "  <thead>\n",
       "    <tr>\n",
       "      <th></th>\n",
       "      <th colspan=\"6\" halign=\"left\">AGG</th>\n",
       "      <th colspan=\"6\" halign=\"left\">SPY</th>\n",
       "    </tr>\n",
       "    <tr>\n",
       "      <th></th>\n",
       "      <th>open</th>\n",
       "      <th>high</th>\n",
       "      <th>low</th>\n",
       "      <th>close</th>\n",
       "      <th>volume</th>\n",
       "      <th>daily_return</th>\n",
       "      <th>open</th>\n",
       "      <th>high</th>\n",
       "      <th>low</th>\n",
       "      <th>close</th>\n",
       "      <th>volume</th>\n",
       "      <th>daily_return</th>\n",
       "    </tr>\n",
       "    <tr>\n",
       "      <th>time</th>\n",
       "      <th></th>\n",
       "      <th></th>\n",
       "      <th></th>\n",
       "      <th></th>\n",
       "      <th></th>\n",
       "      <th></th>\n",
       "      <th></th>\n",
       "      <th></th>\n",
       "      <th></th>\n",
       "      <th></th>\n",
       "      <th></th>\n",
       "      <th></th>\n",
       "    </tr>\n",
       "  </thead>\n",
       "  <tbody>\n",
       "    <tr>\n",
       "      <th>2020-03-18 00:00:00-04:00</th>\n",
       "      <td>109.36</td>\n",
       "      <td>110.5700</td>\n",
       "      <td>105.7707</td>\n",
       "      <td>106.33</td>\n",
       "      <td>30117292</td>\n",
       "      <td>NaN</td>\n",
       "      <td>236.25</td>\n",
       "      <td>248.3700</td>\n",
       "      <td>228.02</td>\n",
       "      <td>241.01</td>\n",
       "      <td>298252778</td>\n",
       "      <td>NaN</td>\n",
       "    </tr>\n",
       "    <tr>\n",
       "      <th>2020-03-19 00:00:00-04:00</th>\n",
       "      <td>106.47</td>\n",
       "      <td>109.2200</td>\n",
       "      <td>105.5600</td>\n",
       "      <td>108.97</td>\n",
       "      <td>21031320</td>\n",
       "      <td>0.024828</td>\n",
       "      <td>239.25</td>\n",
       "      <td>247.3800</td>\n",
       "      <td>232.22</td>\n",
       "      <td>241.16</td>\n",
       "      <td>261233795</td>\n",
       "      <td>0.000622</td>\n",
       "    </tr>\n",
       "    <tr>\n",
       "      <th>2020-03-20 00:00:00-04:00</th>\n",
       "      <td>108.46</td>\n",
       "      <td>110.2399</td>\n",
       "      <td>108.4600</td>\n",
       "      <td>109.49</td>\n",
       "      <td>28449412</td>\n",
       "      <td>0.004772</td>\n",
       "      <td>242.53</td>\n",
       "      <td>244.4700</td>\n",
       "      <td>228.50</td>\n",
       "      <td>228.94</td>\n",
       "      <td>302880969</td>\n",
       "      <td>-0.050672</td>\n",
       "    </tr>\n",
       "    <tr>\n",
       "      <th>2020-03-23 00:00:00-04:00</th>\n",
       "      <td>109.90</td>\n",
       "      <td>112.9400</td>\n",
       "      <td>109.0000</td>\n",
       "      <td>112.55</td>\n",
       "      <td>23873510</td>\n",
       "      <td>0.027948</td>\n",
       "      <td>228.19</td>\n",
       "      <td>229.6833</td>\n",
       "      <td>218.26</td>\n",
       "      <td>222.51</td>\n",
       "      <td>280560712</td>\n",
       "      <td>-0.028086</td>\n",
       "    </tr>\n",
       "    <tr>\n",
       "      <th>2020-03-24 00:00:00-04:00</th>\n",
       "      <td>111.52</td>\n",
       "      <td>113.5000</td>\n",
       "      <td>111.0754</td>\n",
       "      <td>113.29</td>\n",
       "      <td>18141498</td>\n",
       "      <td>0.006575</td>\n",
       "      <td>234.42</td>\n",
       "      <td>244.1000</td>\n",
       "      <td>233.80</td>\n",
       "      <td>243.59</td>\n",
       "      <td>211595249</td>\n",
       "      <td>0.094737</td>\n",
       "    </tr>\n",
       "  </tbody>\n",
       "</table>\n",
       "</div>"
      ],
      "text/plain": [
       "                              AGG                                        \\\n",
       "                             open      high       low   close    volume   \n",
       "time                                                                      \n",
       "2020-03-18 00:00:00-04:00  109.36  110.5700  105.7707  106.33  30117292   \n",
       "2020-03-19 00:00:00-04:00  106.47  109.2200  105.5600  108.97  21031320   \n",
       "2020-03-20 00:00:00-04:00  108.46  110.2399  108.4600  109.49  28449412   \n",
       "2020-03-23 00:00:00-04:00  109.90  112.9400  109.0000  112.55  23873510   \n",
       "2020-03-24 00:00:00-04:00  111.52  113.5000  111.0754  113.29  18141498   \n",
       "\n",
       "                                           SPY                            \\\n",
       "                          daily_return    open      high     low   close   \n",
       "time                                                                       \n",
       "2020-03-18 00:00:00-04:00          NaN  236.25  248.3700  228.02  241.01   \n",
       "2020-03-19 00:00:00-04:00     0.024828  239.25  247.3800  232.22  241.16   \n",
       "2020-03-20 00:00:00-04:00     0.004772  242.53  244.4700  228.50  228.94   \n",
       "2020-03-23 00:00:00-04:00     0.027948  228.19  229.6833  218.26  222.51   \n",
       "2020-03-24 00:00:00-04:00     0.006575  234.42  244.1000  233.80  243.59   \n",
       "\n",
       "                                                   \n",
       "                              volume daily_return  \n",
       "time                                               \n",
       "2020-03-18 00:00:00-04:00  298252778          NaN  \n",
       "2020-03-19 00:00:00-04:00  261233795     0.000622  \n",
       "2020-03-20 00:00:00-04:00  302880969    -0.050672  \n",
       "2020-03-23 00:00:00-04:00  280560712    -0.028086  \n",
       "2020-03-24 00:00:00-04:00  211595249     0.094737  "
      ]
     },
     "execution_count": 37,
     "metadata": {},
     "output_type": "execute_result"
    }
   ],
   "source": [
    "# Configure a Monte Carlo simulation to forecast 10 years cumulative returns\n",
    "# The weights should be split 20% to AGG and 80% to SPY.\n",
    "# Run 500 samples.\n",
    "MC_10_weight = MCSimulation(portfolio_data = prices_df, weights=[.80,.20], \n",
    "                              num_simulation = 500, num_trading_days= 252*10)\n",
    "\n",
    "# Review the simulation input data\n",
    "MC_10_weight.portfolio_data.head()\n",
    "\n"
   ]
  },
  {
   "cell_type": "code",
   "execution_count": 38,
   "metadata": {},
   "outputs": [
    {
     "name": "stdout",
     "output_type": "stream",
     "text": [
      "Running Monte Carlo simulation number 0.\n",
      "Running Monte Carlo simulation number 10.\n",
      "Running Monte Carlo simulation number 20.\n",
      "Running Monte Carlo simulation number 30.\n",
      "Running Monte Carlo simulation number 40.\n",
      "Running Monte Carlo simulation number 50.\n",
      "Running Monte Carlo simulation number 60.\n",
      "Running Monte Carlo simulation number 70.\n",
      "Running Monte Carlo simulation number 80.\n",
      "Running Monte Carlo simulation number 90.\n",
      "Running Monte Carlo simulation number 100.\n",
      "Running Monte Carlo simulation number 110.\n",
      "Running Monte Carlo simulation number 120.\n",
      "Running Monte Carlo simulation number 130.\n",
      "Running Monte Carlo simulation number 140.\n",
      "Running Monte Carlo simulation number 150.\n",
      "Running Monte Carlo simulation number 160.\n",
      "Running Monte Carlo simulation number 170.\n",
      "Running Monte Carlo simulation number 180.\n",
      "Running Monte Carlo simulation number 190.\n",
      "Running Monte Carlo simulation number 200.\n",
      "Running Monte Carlo simulation number 210.\n",
      "Running Monte Carlo simulation number 220.\n",
      "Running Monte Carlo simulation number 230.\n",
      "Running Monte Carlo simulation number 240.\n",
      "Running Monte Carlo simulation number 250.\n",
      "Running Monte Carlo simulation number 260.\n",
      "Running Monte Carlo simulation number 270.\n",
      "Running Monte Carlo simulation number 280.\n",
      "Running Monte Carlo simulation number 290.\n",
      "Running Monte Carlo simulation number 300.\n",
      "Running Monte Carlo simulation number 310.\n",
      "Running Monte Carlo simulation number 320.\n",
      "Running Monte Carlo simulation number 330.\n",
      "Running Monte Carlo simulation number 340.\n",
      "Running Monte Carlo simulation number 350.\n",
      "Running Monte Carlo simulation number 360.\n",
      "Running Monte Carlo simulation number 370.\n",
      "Running Monte Carlo simulation number 380.\n",
      "Running Monte Carlo simulation number 390.\n",
      "Running Monte Carlo simulation number 400.\n",
      "Running Monte Carlo simulation number 410.\n",
      "Running Monte Carlo simulation number 420.\n",
      "Running Monte Carlo simulation number 430.\n",
      "Running Monte Carlo simulation number 440.\n",
      "Running Monte Carlo simulation number 450.\n",
      "Running Monte Carlo simulation number 460.\n",
      "Running Monte Carlo simulation number 470.\n",
      "Running Monte Carlo simulation number 480.\n",
      "Running Monte Carlo simulation number 490.\n"
     ]
    },
    {
     "data": {
      "text/html": [
       "<div>\n",
       "<style scoped>\n",
       "    .dataframe tbody tr th:only-of-type {\n",
       "        vertical-align: middle;\n",
       "    }\n",
       "\n",
       "    .dataframe tbody tr th {\n",
       "        vertical-align: top;\n",
       "    }\n",
       "\n",
       "    .dataframe thead th {\n",
       "        text-align: right;\n",
       "    }\n",
       "</style>\n",
       "<table border=\"1\" class=\"dataframe\">\n",
       "  <thead>\n",
       "    <tr style=\"text-align: right;\">\n",
       "      <th></th>\n",
       "      <th>0</th>\n",
       "      <th>1</th>\n",
       "      <th>2</th>\n",
       "      <th>3</th>\n",
       "      <th>4</th>\n",
       "      <th>5</th>\n",
       "      <th>6</th>\n",
       "      <th>7</th>\n",
       "      <th>8</th>\n",
       "      <th>9</th>\n",
       "      <th>...</th>\n",
       "      <th>490</th>\n",
       "      <th>491</th>\n",
       "      <th>492</th>\n",
       "      <th>493</th>\n",
       "      <th>494</th>\n",
       "      <th>495</th>\n",
       "      <th>496</th>\n",
       "      <th>497</th>\n",
       "      <th>498</th>\n",
       "      <th>499</th>\n",
       "    </tr>\n",
       "  </thead>\n",
       "  <tbody>\n",
       "    <tr>\n",
       "      <th>0</th>\n",
       "      <td>1.000000</td>\n",
       "      <td>1.000000</td>\n",
       "      <td>1.000000</td>\n",
       "      <td>1.000000</td>\n",
       "      <td>1.000000</td>\n",
       "      <td>1.000000</td>\n",
       "      <td>1.000000</td>\n",
       "      <td>1.000000</td>\n",
       "      <td>1.000000</td>\n",
       "      <td>1.000000</td>\n",
       "      <td>...</td>\n",
       "      <td>1.000000</td>\n",
       "      <td>1.000000</td>\n",
       "      <td>1.000000</td>\n",
       "      <td>1.000000</td>\n",
       "      <td>1.000000</td>\n",
       "      <td>1.000000</td>\n",
       "      <td>1.000000</td>\n",
       "      <td>1.000000</td>\n",
       "      <td>1.000000</td>\n",
       "      <td>1.000000</td>\n",
       "    </tr>\n",
       "    <tr>\n",
       "      <th>1</th>\n",
       "      <td>1.004334</td>\n",
       "      <td>1.010688</td>\n",
       "      <td>0.997109</td>\n",
       "      <td>0.999924</td>\n",
       "      <td>0.987965</td>\n",
       "      <td>1.001139</td>\n",
       "      <td>0.999437</td>\n",
       "      <td>0.991046</td>\n",
       "      <td>1.008021</td>\n",
       "      <td>0.999600</td>\n",
       "      <td>...</td>\n",
       "      <td>1.000026</td>\n",
       "      <td>0.991241</td>\n",
       "      <td>1.011760</td>\n",
       "      <td>0.991282</td>\n",
       "      <td>0.998326</td>\n",
       "      <td>1.012338</td>\n",
       "      <td>1.004435</td>\n",
       "      <td>1.000617</td>\n",
       "      <td>1.002439</td>\n",
       "      <td>1.003808</td>\n",
       "    </tr>\n",
       "    <tr>\n",
       "      <th>2</th>\n",
       "      <td>1.014732</td>\n",
       "      <td>1.013553</td>\n",
       "      <td>1.004836</td>\n",
       "      <td>1.001112</td>\n",
       "      <td>0.997902</td>\n",
       "      <td>1.002871</td>\n",
       "      <td>1.001776</td>\n",
       "      <td>0.985785</td>\n",
       "      <td>1.013156</td>\n",
       "      <td>0.995023</td>\n",
       "      <td>...</td>\n",
       "      <td>1.007966</td>\n",
       "      <td>0.991415</td>\n",
       "      <td>1.018771</td>\n",
       "      <td>0.992183</td>\n",
       "      <td>0.993892</td>\n",
       "      <td>1.017279</td>\n",
       "      <td>1.001415</td>\n",
       "      <td>1.009907</td>\n",
       "      <td>1.000392</td>\n",
       "      <td>1.000263</td>\n",
       "    </tr>\n",
       "    <tr>\n",
       "      <th>3</th>\n",
       "      <td>1.016249</td>\n",
       "      <td>1.019514</td>\n",
       "      <td>1.009795</td>\n",
       "      <td>1.004745</td>\n",
       "      <td>1.015429</td>\n",
       "      <td>0.995489</td>\n",
       "      <td>0.995941</td>\n",
       "      <td>0.978809</td>\n",
       "      <td>1.008095</td>\n",
       "      <td>0.992259</td>\n",
       "      <td>...</td>\n",
       "      <td>1.005260</td>\n",
       "      <td>0.990476</td>\n",
       "      <td>1.026652</td>\n",
       "      <td>0.986940</td>\n",
       "      <td>0.997996</td>\n",
       "      <td>1.021251</td>\n",
       "      <td>1.002131</td>\n",
       "      <td>1.009622</td>\n",
       "      <td>1.009499</td>\n",
       "      <td>1.005027</td>\n",
       "    </tr>\n",
       "    <tr>\n",
       "      <th>4</th>\n",
       "      <td>1.019741</td>\n",
       "      <td>1.018267</td>\n",
       "      <td>1.009951</td>\n",
       "      <td>1.013031</td>\n",
       "      <td>1.015533</td>\n",
       "      <td>0.994068</td>\n",
       "      <td>1.000065</td>\n",
       "      <td>0.980030</td>\n",
       "      <td>1.015720</td>\n",
       "      <td>0.997440</td>\n",
       "      <td>...</td>\n",
       "      <td>1.005934</td>\n",
       "      <td>0.991619</td>\n",
       "      <td>1.033289</td>\n",
       "      <td>0.987641</td>\n",
       "      <td>0.999755</td>\n",
       "      <td>1.018993</td>\n",
       "      <td>1.002207</td>\n",
       "      <td>1.015724</td>\n",
       "      <td>1.020004</td>\n",
       "      <td>1.003845</td>\n",
       "    </tr>\n",
       "    <tr>\n",
       "      <th>...</th>\n",
       "      <td>...</td>\n",
       "      <td>...</td>\n",
       "      <td>...</td>\n",
       "      <td>...</td>\n",
       "      <td>...</td>\n",
       "      <td>...</td>\n",
       "      <td>...</td>\n",
       "      <td>...</td>\n",
       "      <td>...</td>\n",
       "      <td>...</td>\n",
       "      <td>...</td>\n",
       "      <td>...</td>\n",
       "      <td>...</td>\n",
       "      <td>...</td>\n",
       "      <td>...</td>\n",
       "      <td>...</td>\n",
       "      <td>...</td>\n",
       "      <td>...</td>\n",
       "      <td>...</td>\n",
       "      <td>...</td>\n",
       "      <td>...</td>\n",
       "    </tr>\n",
       "    <tr>\n",
       "      <th>2516</th>\n",
       "      <td>105.318116</td>\n",
       "      <td>56.669213</td>\n",
       "      <td>32.814589</td>\n",
       "      <td>70.623298</td>\n",
       "      <td>82.592360</td>\n",
       "      <td>46.843870</td>\n",
       "      <td>80.687407</td>\n",
       "      <td>88.082595</td>\n",
       "      <td>55.130188</td>\n",
       "      <td>97.792525</td>\n",
       "      <td>...</td>\n",
       "      <td>48.517860</td>\n",
       "      <td>69.913235</td>\n",
       "      <td>60.417574</td>\n",
       "      <td>64.323522</td>\n",
       "      <td>57.651219</td>\n",
       "      <td>71.615404</td>\n",
       "      <td>59.999063</td>\n",
       "      <td>43.347014</td>\n",
       "      <td>93.282677</td>\n",
       "      <td>66.824731</td>\n",
       "    </tr>\n",
       "    <tr>\n",
       "      <th>2517</th>\n",
       "      <td>106.270870</td>\n",
       "      <td>57.340546</td>\n",
       "      <td>33.055478</td>\n",
       "      <td>71.004462</td>\n",
       "      <td>82.000462</td>\n",
       "      <td>47.075013</td>\n",
       "      <td>80.742968</td>\n",
       "      <td>87.093089</td>\n",
       "      <td>55.256944</td>\n",
       "      <td>97.959005</td>\n",
       "      <td>...</td>\n",
       "      <td>48.488781</td>\n",
       "      <td>70.082154</td>\n",
       "      <td>60.296148</td>\n",
       "      <td>63.906362</td>\n",
       "      <td>58.081501</td>\n",
       "      <td>72.194731</td>\n",
       "      <td>59.919049</td>\n",
       "      <td>43.428706</td>\n",
       "      <td>93.122423</td>\n",
       "      <td>67.025878</td>\n",
       "    </tr>\n",
       "    <tr>\n",
       "      <th>2518</th>\n",
       "      <td>106.178243</td>\n",
       "      <td>57.340499</td>\n",
       "      <td>33.082086</td>\n",
       "      <td>71.583939</td>\n",
       "      <td>81.746076</td>\n",
       "      <td>47.365274</td>\n",
       "      <td>81.730014</td>\n",
       "      <td>87.488095</td>\n",
       "      <td>54.939849</td>\n",
       "      <td>97.405514</td>\n",
       "      <td>...</td>\n",
       "      <td>48.676065</td>\n",
       "      <td>69.668218</td>\n",
       "      <td>60.450096</td>\n",
       "      <td>63.957622</td>\n",
       "      <td>58.205851</td>\n",
       "      <td>72.292325</td>\n",
       "      <td>59.917983</td>\n",
       "      <td>43.012585</td>\n",
       "      <td>93.293248</td>\n",
       "      <td>67.191504</td>\n",
       "    </tr>\n",
       "    <tr>\n",
       "      <th>2519</th>\n",
       "      <td>106.762709</td>\n",
       "      <td>57.020358</td>\n",
       "      <td>33.357338</td>\n",
       "      <td>71.432950</td>\n",
       "      <td>81.807334</td>\n",
       "      <td>47.561277</td>\n",
       "      <td>81.871022</td>\n",
       "      <td>88.035231</td>\n",
       "      <td>54.155447</td>\n",
       "      <td>98.352486</td>\n",
       "      <td>...</td>\n",
       "      <td>48.272141</td>\n",
       "      <td>70.130719</td>\n",
       "      <td>60.730685</td>\n",
       "      <td>63.947255</td>\n",
       "      <td>58.210963</td>\n",
       "      <td>73.168127</td>\n",
       "      <td>60.844196</td>\n",
       "      <td>42.931089</td>\n",
       "      <td>92.145261</td>\n",
       "      <td>67.031448</td>\n",
       "    </tr>\n",
       "    <tr>\n",
       "      <th>2520</th>\n",
       "      <td>106.524249</td>\n",
       "      <td>57.098847</td>\n",
       "      <td>33.280755</td>\n",
       "      <td>71.458938</td>\n",
       "      <td>82.147434</td>\n",
       "      <td>47.705098</td>\n",
       "      <td>82.256800</td>\n",
       "      <td>87.606851</td>\n",
       "      <td>54.229972</td>\n",
       "      <td>98.825292</td>\n",
       "      <td>...</td>\n",
       "      <td>48.104506</td>\n",
       "      <td>70.150568</td>\n",
       "      <td>61.001084</td>\n",
       "      <td>63.514887</td>\n",
       "      <td>57.921467</td>\n",
       "      <td>72.221682</td>\n",
       "      <td>60.761848</td>\n",
       "      <td>43.184142</td>\n",
       "      <td>92.827731</td>\n",
       "      <td>67.075712</td>\n",
       "    </tr>\n",
       "  </tbody>\n",
       "</table>\n",
       "<p>2521 rows × 500 columns</p>\n",
       "</div>"
      ],
      "text/plain": [
       "             0          1          2          3          4          5    \\\n",
       "0       1.000000   1.000000   1.000000   1.000000   1.000000   1.000000   \n",
       "1       1.004334   1.010688   0.997109   0.999924   0.987965   1.001139   \n",
       "2       1.014732   1.013553   1.004836   1.001112   0.997902   1.002871   \n",
       "3       1.016249   1.019514   1.009795   1.004745   1.015429   0.995489   \n",
       "4       1.019741   1.018267   1.009951   1.013031   1.015533   0.994068   \n",
       "...          ...        ...        ...        ...        ...        ...   \n",
       "2516  105.318116  56.669213  32.814589  70.623298  82.592360  46.843870   \n",
       "2517  106.270870  57.340546  33.055478  71.004462  82.000462  47.075013   \n",
       "2518  106.178243  57.340499  33.082086  71.583939  81.746076  47.365274   \n",
       "2519  106.762709  57.020358  33.357338  71.432950  81.807334  47.561277   \n",
       "2520  106.524249  57.098847  33.280755  71.458938  82.147434  47.705098   \n",
       "\n",
       "            6          7          8          9    ...        490        491  \\\n",
       "0      1.000000   1.000000   1.000000   1.000000  ...   1.000000   1.000000   \n",
       "1      0.999437   0.991046   1.008021   0.999600  ...   1.000026   0.991241   \n",
       "2      1.001776   0.985785   1.013156   0.995023  ...   1.007966   0.991415   \n",
       "3      0.995941   0.978809   1.008095   0.992259  ...   1.005260   0.990476   \n",
       "4      1.000065   0.980030   1.015720   0.997440  ...   1.005934   0.991619   \n",
       "...         ...        ...        ...        ...  ...        ...        ...   \n",
       "2516  80.687407  88.082595  55.130188  97.792525  ...  48.517860  69.913235   \n",
       "2517  80.742968  87.093089  55.256944  97.959005  ...  48.488781  70.082154   \n",
       "2518  81.730014  87.488095  54.939849  97.405514  ...  48.676065  69.668218   \n",
       "2519  81.871022  88.035231  54.155447  98.352486  ...  48.272141  70.130719   \n",
       "2520  82.256800  87.606851  54.229972  98.825292  ...  48.104506  70.150568   \n",
       "\n",
       "            492        493        494        495        496        497  \\\n",
       "0      1.000000   1.000000   1.000000   1.000000   1.000000   1.000000   \n",
       "1      1.011760   0.991282   0.998326   1.012338   1.004435   1.000617   \n",
       "2      1.018771   0.992183   0.993892   1.017279   1.001415   1.009907   \n",
       "3      1.026652   0.986940   0.997996   1.021251   1.002131   1.009622   \n",
       "4      1.033289   0.987641   0.999755   1.018993   1.002207   1.015724   \n",
       "...         ...        ...        ...        ...        ...        ...   \n",
       "2516  60.417574  64.323522  57.651219  71.615404  59.999063  43.347014   \n",
       "2517  60.296148  63.906362  58.081501  72.194731  59.919049  43.428706   \n",
       "2518  60.450096  63.957622  58.205851  72.292325  59.917983  43.012585   \n",
       "2519  60.730685  63.947255  58.210963  73.168127  60.844196  42.931089   \n",
       "2520  61.001084  63.514887  57.921467  72.221682  60.761848  43.184142   \n",
       "\n",
       "            498        499  \n",
       "0      1.000000   1.000000  \n",
       "1      1.002439   1.003808  \n",
       "2      1.000392   1.000263  \n",
       "3      1.009499   1.005027  \n",
       "4      1.020004   1.003845  \n",
       "...         ...        ...  \n",
       "2516  93.282677  66.824731  \n",
       "2517  93.122423  67.025878  \n",
       "2518  93.293248  67.191504  \n",
       "2519  92.145261  67.031448  \n",
       "2520  92.827731  67.075712  \n",
       "\n",
       "[2521 rows x 500 columns]"
      ]
     },
     "execution_count": 38,
     "metadata": {},
     "output_type": "execute_result"
    }
   ],
   "source": [
    "# Run the Monte Carlo simulation to forecast 10 years cumulative returns\n",
    "MC_10_weight.calc_cumulative_return()\n"
   ]
  },
  {
   "cell_type": "code",
   "execution_count": 39,
   "metadata": {},
   "outputs": [
    {
     "data": {
      "image/png": "[encoded data removed]",
      "text/plain": [
       "<Figure size 432x288 with 1 Axes>"
      ]
     },
     "metadata": {
      "needs_background": "light"
     },
     "output_type": "display_data"
    }
   ],
   "source": [
    "# Visualize the 10-year Monte Carlo simulation by creating an\n",
    "# overlay line plot\n",
    "MC_weight_line_10_plot = MC_10_weight.plot_simulation()\n"
   ]
  },
  {
   "cell_type": "code",
   "execution_count": 40,
   "metadata": {},
   "outputs": [
    {
     "data": {
      "image/png": "[encoded data removed]",
      "text/plain": [
       "<Figure size 432x288 with 1 Axes>"
      ]
     },
     "metadata": {
      "needs_background": "light"
     },
     "output_type": "display_data"
    }
   ],
   "source": [
    "# Visualize the probability distribution of the 10-year Monte Carlo simulation \n",
    "# by plotting a histogram\n",
    "MC_weight_distribution_10_plot = MC_10_weight.plot_distribution()\n"
   ]
  },
  {
   "cell_type": "code",
   "execution_count": 41,
   "metadata": {},
   "outputs": [
    {
     "name": "stdout",
     "output_type": "stream",
     "text": [
      "count           500.000000\n",
      "mean             65.011565\n",
      "std              18.257479\n",
      "min              24.144669\n",
      "25%              52.090589\n",
      "50%              62.335026\n",
      "75%              75.271290\n",
      "max             124.601560\n",
      "95% CI Lower     37.783485\n",
      "95% CI Upper    105.452316\n",
      "Name: 2520, dtype: float64\n"
     ]
    }
   ],
   "source": [
    "# Generate summary statistics from the 10-year Monte Carlo simulation results\n",
    "# Save the results as a variable\n",
    "\n",
    "MC_weight_10_table = MC_10_weight.summarize_cumulative_return()\n",
    "\n",
    "# Review the 10-year Monte Carlo summary statistics\n",
    "# YOUR CODE HERE\n",
    "print(MC_weight_10_table)"
   ]
  },
  {
   "cell_type": "markdown",
   "metadata": {},
   "source": [
    "### Answer the following questions:"
   ]
  },
  {
   "cell_type": "markdown",
   "metadata": {},
   "source": [
    "#### Question: Using the current value of only the stock and bond portion of the member's portfolio and the summary statistics that you generated from the new Monte Carlo simulation, what are the lower and upper bounds for the expected value of the portfolio (with the new weights) with a 95% confidence interval?"
   ]
  },
  {
   "cell_type": "code",
   "execution_count": 42,
   "metadata": {},
   "outputs": [
    {
     "name": "stdout",
     "output_type": "stream",
     "text": [
      "The value for stocks and bonds in this portfolio is $60689.5\n"
     ]
    }
   ],
   "source": [
    "# Print the current balance of the stock and bond portion of the members portfolio\n",
    "print(f\"The value for stocks and bonds in this portfolio is ${total_stocks_bonds}\")\n"
   ]
  },
  {
   "cell_type": "code",
   "execution_count": 43,
   "metadata": {},
   "outputs": [
    {
     "name": "stdout",
     "output_type": "stream",
     "text": [
      "There is a 95% chance that this portfolio will range between $2293060.84 and $6399848.34.\n"
     ]
    }
   ],
   "source": [
    "# Use the lower and upper `95%` confidence intervals to calculate the range of the possible outcomes for the current stock/bond portfolio\n",
    "ci_lower_ten_cumulative_return = round(MC_weight_10_table[8]*total_stocks_bonds,2)\n",
    "ci_upper_ten_cumulative_return = round(MC_weight_10_table[9]*total_stocks_bonds,2)\n",
    "\n",
    "# Print results of your calculations\n",
    "print(f\"There is a 95% chance that this portfolio will range between\"\n",
    "           f\" ${ci_lower_ten_cumulative_return} and ${ci_upper_ten_cumulative_return}.\")\n"
   ]
  },
  {
   "cell_type": "markdown",
   "metadata": {},
   "source": [
    "#### Question: Will weighting the portfolio more heavily to stocks allow the credit union members to retire after only 10 years?"
   ]
  },
  {
   "cell_type": "raw",
   "metadata": {},
   "source": [
    "**Answer** # YOUR ANSWER HERE"
   ]
  },
  {
   "cell_type": "code",
   "execution_count": null,
   "metadata": {},
   "outputs": [],
   "source": []
  }
 ],
 "metadata": {
  "kernelspec": {
   "display_name": "Python 3",
   "language": "python",
   "name": "python3"
  },
  "language_info": {
   "codemirror_mode": {
    "name": "ipython",
    "version": 3
   },
   "file_extension": ".py",
   "mimetype": "text/x-python",
   "name": "python",
   "nbconvert_exporter": "python",
   "pygments_lexer": "ipython3",
   "version": "3.8.8"
  }
 },
 "nbformat": 4,
 "nbformat_minor": 4
}
